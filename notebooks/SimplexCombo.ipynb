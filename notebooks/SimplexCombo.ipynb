{
  "nbformat": 4,
  "nbformat_minor": 0,
  "metadata": {
    "colab": {
      "name": "SimplexCombo.ipynb",
      "provenance": [],
      "collapsed_sections": [],
      "machine_shape": "hm",
      "authorship_tag": "ABX9TyNnueos8yIGEyCT0Kiy19gv",
      "include_colab_link": true
    },
    "kernelspec": {
      "name": "python3",
      "display_name": "Python 3"
    },
    "language_info": {
      "name": "python"
    },
    "accelerator": "GPU",
    "widgets": {
      "application/vnd.jupyter.widget-state+json": {
        "28725e07ac844054993f85ff78fcbb61": {
          "model_module": "@jupyter-widgets/controls",
          "model_name": "HBoxModel",
          "model_module_version": "1.5.0",
          "state": {
            "_view_name": "HBoxView",
            "_dom_classes": [],
            "_model_name": "HBoxModel",
            "_view_module": "@jupyter-widgets/controls",
            "_model_module_version": "1.5.0",
            "_view_count": null,
            "_view_module_version": "1.5.0",
            "box_style": "",
            "layout": "IPY_MODEL_765a9b468daf49fda20d9ea365e1cf6a",
            "_model_module": "@jupyter-widgets/controls",
            "children": [
              "IPY_MODEL_ec8d1512229143c2825f298794aa9a83",
              "IPY_MODEL_89da5b8ee61c4518b6f8f08ceb2aa075",
              "IPY_MODEL_fb2c23cac625424cb03596e66a304774"
            ]
          }
        },
        "765a9b468daf49fda20d9ea365e1cf6a": {
          "model_module": "@jupyter-widgets/base",
          "model_name": "LayoutModel",
          "model_module_version": "1.2.0",
          "state": {
            "_view_name": "LayoutView",
            "grid_template_rows": null,
            "right": null,
            "justify_content": null,
            "_view_module": "@jupyter-widgets/base",
            "overflow": null,
            "_model_module_version": "1.2.0",
            "_view_count": null,
            "flex_flow": null,
            "width": null,
            "min_width": null,
            "border": null,
            "align_items": null,
            "bottom": null,
            "_model_module": "@jupyter-widgets/base",
            "top": null,
            "grid_column": null,
            "overflow_y": null,
            "overflow_x": null,
            "grid_auto_flow": null,
            "grid_area": null,
            "grid_template_columns": null,
            "flex": null,
            "_model_name": "LayoutModel",
            "justify_items": null,
            "grid_row": null,
            "max_height": null,
            "align_content": null,
            "visibility": null,
            "align_self": null,
            "height": null,
            "min_height": null,
            "padding": null,
            "grid_auto_rows": null,
            "grid_gap": null,
            "max_width": null,
            "order": null,
            "_view_module_version": "1.2.0",
            "grid_template_areas": null,
            "object_position": null,
            "object_fit": null,
            "grid_auto_columns": null,
            "margin": null,
            "display": null,
            "left": null
          }
        },
        "ec8d1512229143c2825f298794aa9a83": {
          "model_module": "@jupyter-widgets/controls",
          "model_name": "HTMLModel",
          "model_module_version": "1.5.0",
          "state": {
            "_view_name": "HTMLView",
            "style": "IPY_MODEL_fb4317b07a8240eca2aa4040cd9ef7b4",
            "_dom_classes": [],
            "description": "",
            "_model_name": "HTMLModel",
            "placeholder": "​",
            "_view_module": "@jupyter-widgets/controls",
            "_model_module_version": "1.5.0",
            "value": "",
            "_view_count": null,
            "_view_module_version": "1.5.0",
            "description_tooltip": null,
            "_model_module": "@jupyter-widgets/controls",
            "layout": "IPY_MODEL_b99a8124007a4fd581cb7c1da1438e6c"
          }
        },
        "89da5b8ee61c4518b6f8f08ceb2aa075": {
          "model_module": "@jupyter-widgets/controls",
          "model_name": "FloatProgressModel",
          "model_module_version": "1.5.0",
          "state": {
            "_view_name": "ProgressView",
            "style": "IPY_MODEL_b6affa348d4547ae9bc251b5294cd888",
            "_dom_classes": [],
            "description": "",
            "_model_name": "FloatProgressModel",
            "bar_style": "success",
            "max": 9912422,
            "_view_module": "@jupyter-widgets/controls",
            "_model_module_version": "1.5.0",
            "value": 9912422,
            "_view_count": null,
            "_view_module_version": "1.5.0",
            "orientation": "horizontal",
            "min": 0,
            "description_tooltip": null,
            "_model_module": "@jupyter-widgets/controls",
            "layout": "IPY_MODEL_68c2cfc5b3ba42c7bbe229d39cb4a666"
          }
        },
        "fb2c23cac625424cb03596e66a304774": {
          "model_module": "@jupyter-widgets/controls",
          "model_name": "HTMLModel",
          "model_module_version": "1.5.0",
          "state": {
            "_view_name": "HTMLView",
            "style": "IPY_MODEL_7e511e3787084d0c9a7c174aa367a803",
            "_dom_classes": [],
            "description": "",
            "_model_name": "HTMLModel",
            "placeholder": "​",
            "_view_module": "@jupyter-widgets/controls",
            "_model_module_version": "1.5.0",
            "value": " 9913344/? [00:00&lt;00:00, 17519403.62it/s]",
            "_view_count": null,
            "_view_module_version": "1.5.0",
            "description_tooltip": null,
            "_model_module": "@jupyter-widgets/controls",
            "layout": "IPY_MODEL_09aa45dff6d3405bbfb7da4a799342ec"
          }
        },
        "fb4317b07a8240eca2aa4040cd9ef7b4": {
          "model_module": "@jupyter-widgets/controls",
          "model_name": "DescriptionStyleModel",
          "model_module_version": "1.5.0",
          "state": {
            "_view_name": "StyleView",
            "_model_name": "DescriptionStyleModel",
            "description_width": "",
            "_view_module": "@jupyter-widgets/base",
            "_model_module_version": "1.5.0",
            "_view_count": null,
            "_view_module_version": "1.2.0",
            "_model_module": "@jupyter-widgets/controls"
          }
        },
        "b99a8124007a4fd581cb7c1da1438e6c": {
          "model_module": "@jupyter-widgets/base",
          "model_name": "LayoutModel",
          "model_module_version": "1.2.0",
          "state": {
            "_view_name": "LayoutView",
            "grid_template_rows": null,
            "right": null,
            "justify_content": null,
            "_view_module": "@jupyter-widgets/base",
            "overflow": null,
            "_model_module_version": "1.2.0",
            "_view_count": null,
            "flex_flow": null,
            "width": null,
            "min_width": null,
            "border": null,
            "align_items": null,
            "bottom": null,
            "_model_module": "@jupyter-widgets/base",
            "top": null,
            "grid_column": null,
            "overflow_y": null,
            "overflow_x": null,
            "grid_auto_flow": null,
            "grid_area": null,
            "grid_template_columns": null,
            "flex": null,
            "_model_name": "LayoutModel",
            "justify_items": null,
            "grid_row": null,
            "max_height": null,
            "align_content": null,
            "visibility": null,
            "align_self": null,
            "height": null,
            "min_height": null,
            "padding": null,
            "grid_auto_rows": null,
            "grid_gap": null,
            "max_width": null,
            "order": null,
            "_view_module_version": "1.2.0",
            "grid_template_areas": null,
            "object_position": null,
            "object_fit": null,
            "grid_auto_columns": null,
            "margin": null,
            "display": null,
            "left": null
          }
        },
        "b6affa348d4547ae9bc251b5294cd888": {
          "model_module": "@jupyter-widgets/controls",
          "model_name": "ProgressStyleModel",
          "model_module_version": "1.5.0",
          "state": {
            "_view_name": "StyleView",
            "_model_name": "ProgressStyleModel",
            "description_width": "",
            "_view_module": "@jupyter-widgets/base",
            "_model_module_version": "1.5.0",
            "_view_count": null,
            "_view_module_version": "1.2.0",
            "bar_color": null,
            "_model_module": "@jupyter-widgets/controls"
          }
        },
        "68c2cfc5b3ba42c7bbe229d39cb4a666": {
          "model_module": "@jupyter-widgets/base",
          "model_name": "LayoutModel",
          "model_module_version": "1.2.0",
          "state": {
            "_view_name": "LayoutView",
            "grid_template_rows": null,
            "right": null,
            "justify_content": null,
            "_view_module": "@jupyter-widgets/base",
            "overflow": null,
            "_model_module_version": "1.2.0",
            "_view_count": null,
            "flex_flow": null,
            "width": null,
            "min_width": null,
            "border": null,
            "align_items": null,
            "bottom": null,
            "_model_module": "@jupyter-widgets/base",
            "top": null,
            "grid_column": null,
            "overflow_y": null,
            "overflow_x": null,
            "grid_auto_flow": null,
            "grid_area": null,
            "grid_template_columns": null,
            "flex": null,
            "_model_name": "LayoutModel",
            "justify_items": null,
            "grid_row": null,
            "max_height": null,
            "align_content": null,
            "visibility": null,
            "align_self": null,
            "height": null,
            "min_height": null,
            "padding": null,
            "grid_auto_rows": null,
            "grid_gap": null,
            "max_width": null,
            "order": null,
            "_view_module_version": "1.2.0",
            "grid_template_areas": null,
            "object_position": null,
            "object_fit": null,
            "grid_auto_columns": null,
            "margin": null,
            "display": null,
            "left": null
          }
        },
        "7e511e3787084d0c9a7c174aa367a803": {
          "model_module": "@jupyter-widgets/controls",
          "model_name": "DescriptionStyleModel",
          "model_module_version": "1.5.0",
          "state": {
            "_view_name": "StyleView",
            "_model_name": "DescriptionStyleModel",
            "description_width": "",
            "_view_module": "@jupyter-widgets/base",
            "_model_module_version": "1.5.0",
            "_view_count": null,
            "_view_module_version": "1.2.0",
            "_model_module": "@jupyter-widgets/controls"
          }
        },
        "09aa45dff6d3405bbfb7da4a799342ec": {
          "model_module": "@jupyter-widgets/base",
          "model_name": "LayoutModel",
          "model_module_version": "1.2.0",
          "state": {
            "_view_name": "LayoutView",
            "grid_template_rows": null,
            "right": null,
            "justify_content": null,
            "_view_module": "@jupyter-widgets/base",
            "overflow": null,
            "_model_module_version": "1.2.0",
            "_view_count": null,
            "flex_flow": null,
            "width": null,
            "min_width": null,
            "border": null,
            "align_items": null,
            "bottom": null,
            "_model_module": "@jupyter-widgets/base",
            "top": null,
            "grid_column": null,
            "overflow_y": null,
            "overflow_x": null,
            "grid_auto_flow": null,
            "grid_area": null,
            "grid_template_columns": null,
            "flex": null,
            "_model_name": "LayoutModel",
            "justify_items": null,
            "grid_row": null,
            "max_height": null,
            "align_content": null,
            "visibility": null,
            "align_self": null,
            "height": null,
            "min_height": null,
            "padding": null,
            "grid_auto_rows": null,
            "grid_gap": null,
            "max_width": null,
            "order": null,
            "_view_module_version": "1.2.0",
            "grid_template_areas": null,
            "object_position": null,
            "object_fit": null,
            "grid_auto_columns": null,
            "margin": null,
            "display": null,
            "left": null
          }
        },
        "5479e3df0a8d43d599a7212c9ec32ba2": {
          "model_module": "@jupyter-widgets/controls",
          "model_name": "HBoxModel",
          "model_module_version": "1.5.0",
          "state": {
            "_view_name": "HBoxView",
            "_dom_classes": [],
            "_model_name": "HBoxModel",
            "_view_module": "@jupyter-widgets/controls",
            "_model_module_version": "1.5.0",
            "_view_count": null,
            "_view_module_version": "1.5.0",
            "box_style": "",
            "layout": "IPY_MODEL_d8c1884cae4b47269cbd27c8190b0a91",
            "_model_module": "@jupyter-widgets/controls",
            "children": [
              "IPY_MODEL_5f97c85033d04ce4b097b49baace3818",
              "IPY_MODEL_e83a6ba937144518bf1c3d264c58167a",
              "IPY_MODEL_59628a9c5b3c4d519a1aa12ca25e4de2"
            ]
          }
        },
        "d8c1884cae4b47269cbd27c8190b0a91": {
          "model_module": "@jupyter-widgets/base",
          "model_name": "LayoutModel",
          "model_module_version": "1.2.0",
          "state": {
            "_view_name": "LayoutView",
            "grid_template_rows": null,
            "right": null,
            "justify_content": null,
            "_view_module": "@jupyter-widgets/base",
            "overflow": null,
            "_model_module_version": "1.2.0",
            "_view_count": null,
            "flex_flow": null,
            "width": null,
            "min_width": null,
            "border": null,
            "align_items": null,
            "bottom": null,
            "_model_module": "@jupyter-widgets/base",
            "top": null,
            "grid_column": null,
            "overflow_y": null,
            "overflow_x": null,
            "grid_auto_flow": null,
            "grid_area": null,
            "grid_template_columns": null,
            "flex": null,
            "_model_name": "LayoutModel",
            "justify_items": null,
            "grid_row": null,
            "max_height": null,
            "align_content": null,
            "visibility": null,
            "align_self": null,
            "height": null,
            "min_height": null,
            "padding": null,
            "grid_auto_rows": null,
            "grid_gap": null,
            "max_width": null,
            "order": null,
            "_view_module_version": "1.2.0",
            "grid_template_areas": null,
            "object_position": null,
            "object_fit": null,
            "grid_auto_columns": null,
            "margin": null,
            "display": null,
            "left": null
          }
        },
        "5f97c85033d04ce4b097b49baace3818": {
          "model_module": "@jupyter-widgets/controls",
          "model_name": "HTMLModel",
          "model_module_version": "1.5.0",
          "state": {
            "_view_name": "HTMLView",
            "style": "IPY_MODEL_040ee5c6ae144248822a69f7ca9123f5",
            "_dom_classes": [],
            "description": "",
            "_model_name": "HTMLModel",
            "placeholder": "​",
            "_view_module": "@jupyter-widgets/controls",
            "_model_module_version": "1.5.0",
            "value": "",
            "_view_count": null,
            "_view_module_version": "1.5.0",
            "description_tooltip": null,
            "_model_module": "@jupyter-widgets/controls",
            "layout": "IPY_MODEL_f2c3bc3908d1409083a1e63fa77c3681"
          }
        },
        "e83a6ba937144518bf1c3d264c58167a": {
          "model_module": "@jupyter-widgets/controls",
          "model_name": "FloatProgressModel",
          "model_module_version": "1.5.0",
          "state": {
            "_view_name": "ProgressView",
            "style": "IPY_MODEL_87c992e593b8467aafa07bdc39c6ea43",
            "_dom_classes": [],
            "description": "",
            "_model_name": "FloatProgressModel",
            "bar_style": "success",
            "max": 28881,
            "_view_module": "@jupyter-widgets/controls",
            "_model_module_version": "1.5.0",
            "value": 28881,
            "_view_count": null,
            "_view_module_version": "1.5.0",
            "orientation": "horizontal",
            "min": 0,
            "description_tooltip": null,
            "_model_module": "@jupyter-widgets/controls",
            "layout": "IPY_MODEL_a89f0b5fef0c43d5951ce666a6cf7f33"
          }
        },
        "59628a9c5b3c4d519a1aa12ca25e4de2": {
          "model_module": "@jupyter-widgets/controls",
          "model_name": "HTMLModel",
          "model_module_version": "1.5.0",
          "state": {
            "_view_name": "HTMLView",
            "style": "IPY_MODEL_b9ba1cae15ac4c8e8e054151673dd494",
            "_dom_classes": [],
            "description": "",
            "_model_name": "HTMLModel",
            "placeholder": "​",
            "_view_module": "@jupyter-widgets/controls",
            "_model_module_version": "1.5.0",
            "value": " 29696/? [00:00&lt;00:00, 981188.67it/s]",
            "_view_count": null,
            "_view_module_version": "1.5.0",
            "description_tooltip": null,
            "_model_module": "@jupyter-widgets/controls",
            "layout": "IPY_MODEL_b002553979374f4d9ede410af002daa2"
          }
        },
        "040ee5c6ae144248822a69f7ca9123f5": {
          "model_module": "@jupyter-widgets/controls",
          "model_name": "DescriptionStyleModel",
          "model_module_version": "1.5.0",
          "state": {
            "_view_name": "StyleView",
            "_model_name": "DescriptionStyleModel",
            "description_width": "",
            "_view_module": "@jupyter-widgets/base",
            "_model_module_version": "1.5.0",
            "_view_count": null,
            "_view_module_version": "1.2.0",
            "_model_module": "@jupyter-widgets/controls"
          }
        },
        "f2c3bc3908d1409083a1e63fa77c3681": {
          "model_module": "@jupyter-widgets/base",
          "model_name": "LayoutModel",
          "model_module_version": "1.2.0",
          "state": {
            "_view_name": "LayoutView",
            "grid_template_rows": null,
            "right": null,
            "justify_content": null,
            "_view_module": "@jupyter-widgets/base",
            "overflow": null,
            "_model_module_version": "1.2.0",
            "_view_count": null,
            "flex_flow": null,
            "width": null,
            "min_width": null,
            "border": null,
            "align_items": null,
            "bottom": null,
            "_model_module": "@jupyter-widgets/base",
            "top": null,
            "grid_column": null,
            "overflow_y": null,
            "overflow_x": null,
            "grid_auto_flow": null,
            "grid_area": null,
            "grid_template_columns": null,
            "flex": null,
            "_model_name": "LayoutModel",
            "justify_items": null,
            "grid_row": null,
            "max_height": null,
            "align_content": null,
            "visibility": null,
            "align_self": null,
            "height": null,
            "min_height": null,
            "padding": null,
            "grid_auto_rows": null,
            "grid_gap": null,
            "max_width": null,
            "order": null,
            "_view_module_version": "1.2.0",
            "grid_template_areas": null,
            "object_position": null,
            "object_fit": null,
            "grid_auto_columns": null,
            "margin": null,
            "display": null,
            "left": null
          }
        },
        "87c992e593b8467aafa07bdc39c6ea43": {
          "model_module": "@jupyter-widgets/controls",
          "model_name": "ProgressStyleModel",
          "model_module_version": "1.5.0",
          "state": {
            "_view_name": "StyleView",
            "_model_name": "ProgressStyleModel",
            "description_width": "",
            "_view_module": "@jupyter-widgets/base",
            "_model_module_version": "1.5.0",
            "_view_count": null,
            "_view_module_version": "1.2.0",
            "bar_color": null,
            "_model_module": "@jupyter-widgets/controls"
          }
        },
        "a89f0b5fef0c43d5951ce666a6cf7f33": {
          "model_module": "@jupyter-widgets/base",
          "model_name": "LayoutModel",
          "model_module_version": "1.2.0",
          "state": {
            "_view_name": "LayoutView",
            "grid_template_rows": null,
            "right": null,
            "justify_content": null,
            "_view_module": "@jupyter-widgets/base",
            "overflow": null,
            "_model_module_version": "1.2.0",
            "_view_count": null,
            "flex_flow": null,
            "width": null,
            "min_width": null,
            "border": null,
            "align_items": null,
            "bottom": null,
            "_model_module": "@jupyter-widgets/base",
            "top": null,
            "grid_column": null,
            "overflow_y": null,
            "overflow_x": null,
            "grid_auto_flow": null,
            "grid_area": null,
            "grid_template_columns": null,
            "flex": null,
            "_model_name": "LayoutModel",
            "justify_items": null,
            "grid_row": null,
            "max_height": null,
            "align_content": null,
            "visibility": null,
            "align_self": null,
            "height": null,
            "min_height": null,
            "padding": null,
            "grid_auto_rows": null,
            "grid_gap": null,
            "max_width": null,
            "order": null,
            "_view_module_version": "1.2.0",
            "grid_template_areas": null,
            "object_position": null,
            "object_fit": null,
            "grid_auto_columns": null,
            "margin": null,
            "display": null,
            "left": null
          }
        },
        "b9ba1cae15ac4c8e8e054151673dd494": {
          "model_module": "@jupyter-widgets/controls",
          "model_name": "DescriptionStyleModel",
          "model_module_version": "1.5.0",
          "state": {
            "_view_name": "StyleView",
            "_model_name": "DescriptionStyleModel",
            "description_width": "",
            "_view_module": "@jupyter-widgets/base",
            "_model_module_version": "1.5.0",
            "_view_count": null,
            "_view_module_version": "1.2.0",
            "_model_module": "@jupyter-widgets/controls"
          }
        },
        "b002553979374f4d9ede410af002daa2": {
          "model_module": "@jupyter-widgets/base",
          "model_name": "LayoutModel",
          "model_module_version": "1.2.0",
          "state": {
            "_view_name": "LayoutView",
            "grid_template_rows": null,
            "right": null,
            "justify_content": null,
            "_view_module": "@jupyter-widgets/base",
            "overflow": null,
            "_model_module_version": "1.2.0",
            "_view_count": null,
            "flex_flow": null,
            "width": null,
            "min_width": null,
            "border": null,
            "align_items": null,
            "bottom": null,
            "_model_module": "@jupyter-widgets/base",
            "top": null,
            "grid_column": null,
            "overflow_y": null,
            "overflow_x": null,
            "grid_auto_flow": null,
            "grid_area": null,
            "grid_template_columns": null,
            "flex": null,
            "_model_name": "LayoutModel",
            "justify_items": null,
            "grid_row": null,
            "max_height": null,
            "align_content": null,
            "visibility": null,
            "align_self": null,
            "height": null,
            "min_height": null,
            "padding": null,
            "grid_auto_rows": null,
            "grid_gap": null,
            "max_width": null,
            "order": null,
            "_view_module_version": "1.2.0",
            "grid_template_areas": null,
            "object_position": null,
            "object_fit": null,
            "grid_auto_columns": null,
            "margin": null,
            "display": null,
            "left": null
          }
        },
        "7841f48a60944730b15fb7153c2e6220": {
          "model_module": "@jupyter-widgets/controls",
          "model_name": "HBoxModel",
          "model_module_version": "1.5.0",
          "state": {
            "_view_name": "HBoxView",
            "_dom_classes": [],
            "_model_name": "HBoxModel",
            "_view_module": "@jupyter-widgets/controls",
            "_model_module_version": "1.5.0",
            "_view_count": null,
            "_view_module_version": "1.5.0",
            "box_style": "",
            "layout": "IPY_MODEL_502e330a03e643a0a59eefa2ac504985",
            "_model_module": "@jupyter-widgets/controls",
            "children": [
              "IPY_MODEL_543e87fd98a14a079fa18ff160d53ada",
              "IPY_MODEL_f8f46683b3f3413ab0abdcb0dc48937a",
              "IPY_MODEL_0866b33860464caaa8466982936d4afb"
            ]
          }
        },
        "502e330a03e643a0a59eefa2ac504985": {
          "model_module": "@jupyter-widgets/base",
          "model_name": "LayoutModel",
          "model_module_version": "1.2.0",
          "state": {
            "_view_name": "LayoutView",
            "grid_template_rows": null,
            "right": null,
            "justify_content": null,
            "_view_module": "@jupyter-widgets/base",
            "overflow": null,
            "_model_module_version": "1.2.0",
            "_view_count": null,
            "flex_flow": null,
            "width": null,
            "min_width": null,
            "border": null,
            "align_items": null,
            "bottom": null,
            "_model_module": "@jupyter-widgets/base",
            "top": null,
            "grid_column": null,
            "overflow_y": null,
            "overflow_x": null,
            "grid_auto_flow": null,
            "grid_area": null,
            "grid_template_columns": null,
            "flex": null,
            "_model_name": "LayoutModel",
            "justify_items": null,
            "grid_row": null,
            "max_height": null,
            "align_content": null,
            "visibility": null,
            "align_self": null,
            "height": null,
            "min_height": null,
            "padding": null,
            "grid_auto_rows": null,
            "grid_gap": null,
            "max_width": null,
            "order": null,
            "_view_module_version": "1.2.0",
            "grid_template_areas": null,
            "object_position": null,
            "object_fit": null,
            "grid_auto_columns": null,
            "margin": null,
            "display": null,
            "left": null
          }
        },
        "543e87fd98a14a079fa18ff160d53ada": {
          "model_module": "@jupyter-widgets/controls",
          "model_name": "HTMLModel",
          "model_module_version": "1.5.0",
          "state": {
            "_view_name": "HTMLView",
            "style": "IPY_MODEL_ec070669311f47608fbbee070f67c729",
            "_dom_classes": [],
            "description": "",
            "_model_name": "HTMLModel",
            "placeholder": "​",
            "_view_module": "@jupyter-widgets/controls",
            "_model_module_version": "1.5.0",
            "value": "",
            "_view_count": null,
            "_view_module_version": "1.5.0",
            "description_tooltip": null,
            "_model_module": "@jupyter-widgets/controls",
            "layout": "IPY_MODEL_d831970774c944728b0cd9579354d3ca"
          }
        },
        "f8f46683b3f3413ab0abdcb0dc48937a": {
          "model_module": "@jupyter-widgets/controls",
          "model_name": "FloatProgressModel",
          "model_module_version": "1.5.0",
          "state": {
            "_view_name": "ProgressView",
            "style": "IPY_MODEL_7930f7d03e054ad39a11b4a1f7571c96",
            "_dom_classes": [],
            "description": "",
            "_model_name": "FloatProgressModel",
            "bar_style": "success",
            "max": 1648877,
            "_view_module": "@jupyter-widgets/controls",
            "_model_module_version": "1.5.0",
            "value": 1648877,
            "_view_count": null,
            "_view_module_version": "1.5.0",
            "orientation": "horizontal",
            "min": 0,
            "description_tooltip": null,
            "_model_module": "@jupyter-widgets/controls",
            "layout": "IPY_MODEL_5abe2ec80b9c4af5b0e804e66fb61856"
          }
        },
        "0866b33860464caaa8466982936d4afb": {
          "model_module": "@jupyter-widgets/controls",
          "model_name": "HTMLModel",
          "model_module_version": "1.5.0",
          "state": {
            "_view_name": "HTMLView",
            "style": "IPY_MODEL_d5472ef3d56143eab0c3184f45c0583e",
            "_dom_classes": [],
            "description": "",
            "_model_name": "HTMLModel",
            "placeholder": "​",
            "_view_module": "@jupyter-widgets/controls",
            "_model_module_version": "1.5.0",
            "value": " 1649664/? [00:00&lt;00:00, 21211503.11it/s]",
            "_view_count": null,
            "_view_module_version": "1.5.0",
            "description_tooltip": null,
            "_model_module": "@jupyter-widgets/controls",
            "layout": "IPY_MODEL_3af354efdd2d4174b8658838c3b487ca"
          }
        },
        "ec070669311f47608fbbee070f67c729": {
          "model_module": "@jupyter-widgets/controls",
          "model_name": "DescriptionStyleModel",
          "model_module_version": "1.5.0",
          "state": {
            "_view_name": "StyleView",
            "_model_name": "DescriptionStyleModel",
            "description_width": "",
            "_view_module": "@jupyter-widgets/base",
            "_model_module_version": "1.5.0",
            "_view_count": null,
            "_view_module_version": "1.2.0",
            "_model_module": "@jupyter-widgets/controls"
          }
        },
        "d831970774c944728b0cd9579354d3ca": {
          "model_module": "@jupyter-widgets/base",
          "model_name": "LayoutModel",
          "model_module_version": "1.2.0",
          "state": {
            "_view_name": "LayoutView",
            "grid_template_rows": null,
            "right": null,
            "justify_content": null,
            "_view_module": "@jupyter-widgets/base",
            "overflow": null,
            "_model_module_version": "1.2.0",
            "_view_count": null,
            "flex_flow": null,
            "width": null,
            "min_width": null,
            "border": null,
            "align_items": null,
            "bottom": null,
            "_model_module": "@jupyter-widgets/base",
            "top": null,
            "grid_column": null,
            "overflow_y": null,
            "overflow_x": null,
            "grid_auto_flow": null,
            "grid_area": null,
            "grid_template_columns": null,
            "flex": null,
            "_model_name": "LayoutModel",
            "justify_items": null,
            "grid_row": null,
            "max_height": null,
            "align_content": null,
            "visibility": null,
            "align_self": null,
            "height": null,
            "min_height": null,
            "padding": null,
            "grid_auto_rows": null,
            "grid_gap": null,
            "max_width": null,
            "order": null,
            "_view_module_version": "1.2.0",
            "grid_template_areas": null,
            "object_position": null,
            "object_fit": null,
            "grid_auto_columns": null,
            "margin": null,
            "display": null,
            "left": null
          }
        },
        "7930f7d03e054ad39a11b4a1f7571c96": {
          "model_module": "@jupyter-widgets/controls",
          "model_name": "ProgressStyleModel",
          "model_module_version": "1.5.0",
          "state": {
            "_view_name": "StyleView",
            "_model_name": "ProgressStyleModel",
            "description_width": "",
            "_view_module": "@jupyter-widgets/base",
            "_model_module_version": "1.5.0",
            "_view_count": null,
            "_view_module_version": "1.2.0",
            "bar_color": null,
            "_model_module": "@jupyter-widgets/controls"
          }
        },
        "5abe2ec80b9c4af5b0e804e66fb61856": {
          "model_module": "@jupyter-widgets/base",
          "model_name": "LayoutModel",
          "model_module_version": "1.2.0",
          "state": {
            "_view_name": "LayoutView",
            "grid_template_rows": null,
            "right": null,
            "justify_content": null,
            "_view_module": "@jupyter-widgets/base",
            "overflow": null,
            "_model_module_version": "1.2.0",
            "_view_count": null,
            "flex_flow": null,
            "width": null,
            "min_width": null,
            "border": null,
            "align_items": null,
            "bottom": null,
            "_model_module": "@jupyter-widgets/base",
            "top": null,
            "grid_column": null,
            "overflow_y": null,
            "overflow_x": null,
            "grid_auto_flow": null,
            "grid_area": null,
            "grid_template_columns": null,
            "flex": null,
            "_model_name": "LayoutModel",
            "justify_items": null,
            "grid_row": null,
            "max_height": null,
            "align_content": null,
            "visibility": null,
            "align_self": null,
            "height": null,
            "min_height": null,
            "padding": null,
            "grid_auto_rows": null,
            "grid_gap": null,
            "max_width": null,
            "order": null,
            "_view_module_version": "1.2.0",
            "grid_template_areas": null,
            "object_position": null,
            "object_fit": null,
            "grid_auto_columns": null,
            "margin": null,
            "display": null,
            "left": null
          }
        },
        "d5472ef3d56143eab0c3184f45c0583e": {
          "model_module": "@jupyter-widgets/controls",
          "model_name": "DescriptionStyleModel",
          "model_module_version": "1.5.0",
          "state": {
            "_view_name": "StyleView",
            "_model_name": "DescriptionStyleModel",
            "description_width": "",
            "_view_module": "@jupyter-widgets/base",
            "_model_module_version": "1.5.0",
            "_view_count": null,
            "_view_module_version": "1.2.0",
            "_model_module": "@jupyter-widgets/controls"
          }
        },
        "3af354efdd2d4174b8658838c3b487ca": {
          "model_module": "@jupyter-widgets/base",
          "model_name": "LayoutModel",
          "model_module_version": "1.2.0",
          "state": {
            "_view_name": "LayoutView",
            "grid_template_rows": null,
            "right": null,
            "justify_content": null,
            "_view_module": "@jupyter-widgets/base",
            "overflow": null,
            "_model_module_version": "1.2.0",
            "_view_count": null,
            "flex_flow": null,
            "width": null,
            "min_width": null,
            "border": null,
            "align_items": null,
            "bottom": null,
            "_model_module": "@jupyter-widgets/base",
            "top": null,
            "grid_column": null,
            "overflow_y": null,
            "overflow_x": null,
            "grid_auto_flow": null,
            "grid_area": null,
            "grid_template_columns": null,
            "flex": null,
            "_model_name": "LayoutModel",
            "justify_items": null,
            "grid_row": null,
            "max_height": null,
            "align_content": null,
            "visibility": null,
            "align_self": null,
            "height": null,
            "min_height": null,
            "padding": null,
            "grid_auto_rows": null,
            "grid_gap": null,
            "max_width": null,
            "order": null,
            "_view_module_version": "1.2.0",
            "grid_template_areas": null,
            "object_position": null,
            "object_fit": null,
            "grid_auto_columns": null,
            "margin": null,
            "display": null,
            "left": null
          }
        },
        "4214fd077cc34bb9bc2e8a7251cda8f6": {
          "model_module": "@jupyter-widgets/controls",
          "model_name": "HBoxModel",
          "model_module_version": "1.5.0",
          "state": {
            "_view_name": "HBoxView",
            "_dom_classes": [],
            "_model_name": "HBoxModel",
            "_view_module": "@jupyter-widgets/controls",
            "_model_module_version": "1.5.0",
            "_view_count": null,
            "_view_module_version": "1.5.0",
            "box_style": "",
            "layout": "IPY_MODEL_a9bf40c9de9b4ed8ab87aea435dbb434",
            "_model_module": "@jupyter-widgets/controls",
            "children": [
              "IPY_MODEL_81930ecbb7a546dcbf90fd0bcfa0a46c",
              "IPY_MODEL_23fa9403504a424f9065d593c1e76d2f",
              "IPY_MODEL_884c881e63c1402e8eae396de82cc3d9"
            ]
          }
        },
        "a9bf40c9de9b4ed8ab87aea435dbb434": {
          "model_module": "@jupyter-widgets/base",
          "model_name": "LayoutModel",
          "model_module_version": "1.2.0",
          "state": {
            "_view_name": "LayoutView",
            "grid_template_rows": null,
            "right": null,
            "justify_content": null,
            "_view_module": "@jupyter-widgets/base",
            "overflow": null,
            "_model_module_version": "1.2.0",
            "_view_count": null,
            "flex_flow": null,
            "width": null,
            "min_width": null,
            "border": null,
            "align_items": null,
            "bottom": null,
            "_model_module": "@jupyter-widgets/base",
            "top": null,
            "grid_column": null,
            "overflow_y": null,
            "overflow_x": null,
            "grid_auto_flow": null,
            "grid_area": null,
            "grid_template_columns": null,
            "flex": null,
            "_model_name": "LayoutModel",
            "justify_items": null,
            "grid_row": null,
            "max_height": null,
            "align_content": null,
            "visibility": null,
            "align_self": null,
            "height": null,
            "min_height": null,
            "padding": null,
            "grid_auto_rows": null,
            "grid_gap": null,
            "max_width": null,
            "order": null,
            "_view_module_version": "1.2.0",
            "grid_template_areas": null,
            "object_position": null,
            "object_fit": null,
            "grid_auto_columns": null,
            "margin": null,
            "display": null,
            "left": null
          }
        },
        "81930ecbb7a546dcbf90fd0bcfa0a46c": {
          "model_module": "@jupyter-widgets/controls",
          "model_name": "HTMLModel",
          "model_module_version": "1.5.0",
          "state": {
            "_view_name": "HTMLView",
            "style": "IPY_MODEL_36bf5dd7e3b7473980a2087ff0b6603a",
            "_dom_classes": [],
            "description": "",
            "_model_name": "HTMLModel",
            "placeholder": "​",
            "_view_module": "@jupyter-widgets/controls",
            "_model_module_version": "1.5.0",
            "value": "",
            "_view_count": null,
            "_view_module_version": "1.5.0",
            "description_tooltip": null,
            "_model_module": "@jupyter-widgets/controls",
            "layout": "IPY_MODEL_fe63368f18da48f1a498e09992b550e4"
          }
        },
        "23fa9403504a424f9065d593c1e76d2f": {
          "model_module": "@jupyter-widgets/controls",
          "model_name": "FloatProgressModel",
          "model_module_version": "1.5.0",
          "state": {
            "_view_name": "ProgressView",
            "style": "IPY_MODEL_533203fd338745de95ed97d0c0f94f84",
            "_dom_classes": [],
            "description": "",
            "_model_name": "FloatProgressModel",
            "bar_style": "success",
            "max": 4542,
            "_view_module": "@jupyter-widgets/controls",
            "_model_module_version": "1.5.0",
            "value": 4542,
            "_view_count": null,
            "_view_module_version": "1.5.0",
            "orientation": "horizontal",
            "min": 0,
            "description_tooltip": null,
            "_model_module": "@jupyter-widgets/controls",
            "layout": "IPY_MODEL_5da6dc551e424b08b899a121428d5c02"
          }
        },
        "884c881e63c1402e8eae396de82cc3d9": {
          "model_module": "@jupyter-widgets/controls",
          "model_name": "HTMLModel",
          "model_module_version": "1.5.0",
          "state": {
            "_view_name": "HTMLView",
            "style": "IPY_MODEL_1d4102b241414f84bac8c91658be5966",
            "_dom_classes": [],
            "description": "",
            "_model_name": "HTMLModel",
            "placeholder": "​",
            "_view_module": "@jupyter-widgets/controls",
            "_model_module_version": "1.5.0",
            "value": " 5120/? [00:00&lt;00:00, 226640.17it/s]",
            "_view_count": null,
            "_view_module_version": "1.5.0",
            "description_tooltip": null,
            "_model_module": "@jupyter-widgets/controls",
            "layout": "IPY_MODEL_135c4c9e8573467f84a2da5ba8ddc021"
          }
        },
        "36bf5dd7e3b7473980a2087ff0b6603a": {
          "model_module": "@jupyter-widgets/controls",
          "model_name": "DescriptionStyleModel",
          "model_module_version": "1.5.0",
          "state": {
            "_view_name": "StyleView",
            "_model_name": "DescriptionStyleModel",
            "description_width": "",
            "_view_module": "@jupyter-widgets/base",
            "_model_module_version": "1.5.0",
            "_view_count": null,
            "_view_module_version": "1.2.0",
            "_model_module": "@jupyter-widgets/controls"
          }
        },
        "fe63368f18da48f1a498e09992b550e4": {
          "model_module": "@jupyter-widgets/base",
          "model_name": "LayoutModel",
          "model_module_version": "1.2.0",
          "state": {
            "_view_name": "LayoutView",
            "grid_template_rows": null,
            "right": null,
            "justify_content": null,
            "_view_module": "@jupyter-widgets/base",
            "overflow": null,
            "_model_module_version": "1.2.0",
            "_view_count": null,
            "flex_flow": null,
            "width": null,
            "min_width": null,
            "border": null,
            "align_items": null,
            "bottom": null,
            "_model_module": "@jupyter-widgets/base",
            "top": null,
            "grid_column": null,
            "overflow_y": null,
            "overflow_x": null,
            "grid_auto_flow": null,
            "grid_area": null,
            "grid_template_columns": null,
            "flex": null,
            "_model_name": "LayoutModel",
            "justify_items": null,
            "grid_row": null,
            "max_height": null,
            "align_content": null,
            "visibility": null,
            "align_self": null,
            "height": null,
            "min_height": null,
            "padding": null,
            "grid_auto_rows": null,
            "grid_gap": null,
            "max_width": null,
            "order": null,
            "_view_module_version": "1.2.0",
            "grid_template_areas": null,
            "object_position": null,
            "object_fit": null,
            "grid_auto_columns": null,
            "margin": null,
            "display": null,
            "left": null
          }
        },
        "533203fd338745de95ed97d0c0f94f84": {
          "model_module": "@jupyter-widgets/controls",
          "model_name": "ProgressStyleModel",
          "model_module_version": "1.5.0",
          "state": {
            "_view_name": "StyleView",
            "_model_name": "ProgressStyleModel",
            "description_width": "",
            "_view_module": "@jupyter-widgets/base",
            "_model_module_version": "1.5.0",
            "_view_count": null,
            "_view_module_version": "1.2.0",
            "bar_color": null,
            "_model_module": "@jupyter-widgets/controls"
          }
        },
        "5da6dc551e424b08b899a121428d5c02": {
          "model_module": "@jupyter-widgets/base",
          "model_name": "LayoutModel",
          "model_module_version": "1.2.0",
          "state": {
            "_view_name": "LayoutView",
            "grid_template_rows": null,
            "right": null,
            "justify_content": null,
            "_view_module": "@jupyter-widgets/base",
            "overflow": null,
            "_model_module_version": "1.2.0",
            "_view_count": null,
            "flex_flow": null,
            "width": null,
            "min_width": null,
            "border": null,
            "align_items": null,
            "bottom": null,
            "_model_module": "@jupyter-widgets/base",
            "top": null,
            "grid_column": null,
            "overflow_y": null,
            "overflow_x": null,
            "grid_auto_flow": null,
            "grid_area": null,
            "grid_template_columns": null,
            "flex": null,
            "_model_name": "LayoutModel",
            "justify_items": null,
            "grid_row": null,
            "max_height": null,
            "align_content": null,
            "visibility": null,
            "align_self": null,
            "height": null,
            "min_height": null,
            "padding": null,
            "grid_auto_rows": null,
            "grid_gap": null,
            "max_width": null,
            "order": null,
            "_view_module_version": "1.2.0",
            "grid_template_areas": null,
            "object_position": null,
            "object_fit": null,
            "grid_auto_columns": null,
            "margin": null,
            "display": null,
            "left": null
          }
        },
        "1d4102b241414f84bac8c91658be5966": {
          "model_module": "@jupyter-widgets/controls",
          "model_name": "DescriptionStyleModel",
          "model_module_version": "1.5.0",
          "state": {
            "_view_name": "StyleView",
            "_model_name": "DescriptionStyleModel",
            "description_width": "",
            "_view_module": "@jupyter-widgets/base",
            "_model_module_version": "1.5.0",
            "_view_count": null,
            "_view_module_version": "1.2.0",
            "_model_module": "@jupyter-widgets/controls"
          }
        },
        "135c4c9e8573467f84a2da5ba8ddc021": {
          "model_module": "@jupyter-widgets/base",
          "model_name": "LayoutModel",
          "model_module_version": "1.2.0",
          "state": {
            "_view_name": "LayoutView",
            "grid_template_rows": null,
            "right": null,
            "justify_content": null,
            "_view_module": "@jupyter-widgets/base",
            "overflow": null,
            "_model_module_version": "1.2.0",
            "_view_count": null,
            "flex_flow": null,
            "width": null,
            "min_width": null,
            "border": null,
            "align_items": null,
            "bottom": null,
            "_model_module": "@jupyter-widgets/base",
            "top": null,
            "grid_column": null,
            "overflow_y": null,
            "overflow_x": null,
            "grid_auto_flow": null,
            "grid_area": null,
            "grid_template_columns": null,
            "flex": null,
            "_model_name": "LayoutModel",
            "justify_items": null,
            "grid_row": null,
            "max_height": null,
            "align_content": null,
            "visibility": null,
            "align_self": null,
            "height": null,
            "min_height": null,
            "padding": null,
            "grid_auto_rows": null,
            "grid_gap": null,
            "max_width": null,
            "order": null,
            "_view_module_version": "1.2.0",
            "grid_template_areas": null,
            "object_position": null,
            "object_fit": null,
            "grid_auto_columns": null,
            "margin": null,
            "display": null,
            "left": null
          }
        }
      }
    }
  },
  "cells": [
    {
      "cell_type": "markdown",
      "metadata": {
        "id": "view-in-github",
        "colab_type": "text"
      },
      "source": [
        "<a href=\"https://colab.research.google.com/github/alanjeffares/Simplex/blob/main/notebooks/SimplexCombo.ipynb\" target=\"_parent\"><img src=\"https://colab.research.google.com/assets/colab-badge.svg\" alt=\"Open In Colab\"/></a>"
      ]
    },
    {
      "cell_type": "code",
      "execution_count": 1,
      "metadata": {
        "colab": {
          "base_uri": "https://localhost:8080/"
        },
        "id": "zuBfkV9zGRV3",
        "outputId": "d23a6796-2c29-444c-e73a-9af18151632c"
      },
      "outputs": [
        {
          "output_type": "stream",
          "name": "stdout",
          "text": [
            "Cloning into 'Simplex'...\n",
            "remote: Enumerating objects: 625, done.\u001b[K\n",
            "remote: Counting objects: 100% (625/625), done.\u001b[K\n",
            "remote: Compressing objects: 100% (421/421), done.\u001b[K\n",
            "remote: Total 625 (delta 365), reused 395 (delta 153), pack-reused 0\u001b[K\n",
            "Receiving objects: 100% (625/625), 1.35 MiB | 7.89 MiB/s, done.\n",
            "Resolving deltas: 100% (365/365), done.\n"
          ]
        }
      ],
      "source": [
        "!git clone https://github.com/alanjeffares/Simplex.git"
      ]
    },
    {
      "cell_type": "code",
      "source": [
        "!pip install captum\n",
        "!pip install pytorch_influence_functions"
      ],
      "metadata": {
        "colab": {
          "base_uri": "https://localhost:8080/"
        },
        "id": "w15LZ0qoGVb3",
        "outputId": "8e27f7dc-9cdc-4931-8a58-05b5d5483e87"
      },
      "execution_count": 2,
      "outputs": [
        {
          "output_type": "stream",
          "name": "stdout",
          "text": [
            "Collecting captum\n",
            "  Downloading captum-0.4.1-py3-none-any.whl (1.4 MB)\n",
            "\u001b[K     |████████████████████████████████| 1.4 MB 5.1 MB/s \n",
            "\u001b[?25hRequirement already satisfied: matplotlib in /usr/local/lib/python3.7/dist-packages (from captum) (3.2.2)\n",
            "Requirement already satisfied: torch>=1.2 in /usr/local/lib/python3.7/dist-packages (from captum) (1.10.0+cu111)\n",
            "Requirement already satisfied: numpy in /usr/local/lib/python3.7/dist-packages (from captum) (1.19.5)\n",
            "Requirement already satisfied: typing-extensions in /usr/local/lib/python3.7/dist-packages (from torch>=1.2->captum) (3.10.0.2)\n",
            "Requirement already satisfied: python-dateutil>=2.1 in /usr/local/lib/python3.7/dist-packages (from matplotlib->captum) (2.8.2)\n",
            "Requirement already satisfied: kiwisolver>=1.0.1 in /usr/local/lib/python3.7/dist-packages (from matplotlib->captum) (1.3.2)\n",
            "Requirement already satisfied: cycler>=0.10 in /usr/local/lib/python3.7/dist-packages (from matplotlib->captum) (0.11.0)\n",
            "Requirement already satisfied: pyparsing!=2.0.4,!=2.1.2,!=2.1.6,>=2.0.1 in /usr/local/lib/python3.7/dist-packages (from matplotlib->captum) (3.0.7)\n",
            "Requirement already satisfied: six>=1.5 in /usr/local/lib/python3.7/dist-packages (from python-dateutil>=2.1->matplotlib->captum) (1.15.0)\n",
            "Installing collected packages: captum\n",
            "Successfully installed captum-0.4.1\n",
            "Collecting pytorch_influence_functions\n",
            "  Downloading pytorch_influence_functions-0.1.1.tar.gz (18 kB)\n",
            "Requirement already satisfied: torch>=1.0 in /usr/local/lib/python3.7/dist-packages (from pytorch_influence_functions) (1.10.0+cu111)\n",
            "Requirement already satisfied: numpy>=1.13.0 in /usr/local/lib/python3.7/dist-packages (from pytorch_influence_functions) (1.19.5)\n",
            "Requirement already satisfied: typing-extensions in /usr/local/lib/python3.7/dist-packages (from torch>=1.0->pytorch_influence_functions) (3.10.0.2)\n",
            "Building wheels for collected packages: pytorch-influence-functions\n",
            "  Building wheel for pytorch-influence-functions (setup.py) ... \u001b[?25l\u001b[?25hdone\n",
            "  Created wheel for pytorch-influence-functions: filename=pytorch_influence_functions-0.1.1-py3-none-any.whl size=14966 sha256=5b4af5d61df6f8e0e030441919705c9ad7f498acefb347a0f2455a69c3a38bd7\n",
            "  Stored in directory: /root/.cache/pip/wheels/1b/35/b0/f1ac8c66296a2fded385cfcd5d993fdd4c5ff7f33d24bf2fa7\n",
            "Successfully built pytorch-influence-functions\n",
            "Installing collected packages: pytorch-influence-functions\n",
            "Successfully installed pytorch-influence-functions-0.1.1\n"
          ]
        }
      ]
    },
    {
      "cell_type": "code",
      "source": [
        "%cd Simplex/\n",
        "import explainers\n",
        "from explainers.simplex import Simplex\n",
        "import models\n",
        "from models.image_recognition import MnistClassifier\n",
        "from utils.schedulers import ExponentialScheduler\n",
        "from experiments.mnist import load_mnist\n",
        "%cd ../"
      ],
      "metadata": {
        "colab": {
          "base_uri": "https://localhost:8080/"
        },
        "id": "23qt3a7MGW-u",
        "outputId": "24eb6524-2556-4259-fffa-54b664af9e51"
      },
      "execution_count": 3,
      "outputs": [
        {
          "output_type": "stream",
          "name": "stdout",
          "text": [
            "/content/Simplex\n",
            "/content\n"
          ]
        }
      ]
    },
    {
      "cell_type": "code",
      "source": [
        "# hyperparams\n",
        "corpus_size = 1000\n",
        "cv_ls = [0] # list(range(10))"
      ],
      "metadata": {
        "id": "cHrfUKDQGdBF"
      },
      "execution_count": 4,
      "outputs": []
    },
    {
      "cell_type": "code",
      "source": [
        "# run the code\n",
        "%cd Simplex/\n",
        "for cv in cv_ls:\n",
        "  !python -m experiments.mnist -experiment \"approximation_quality\" -cv $cv -corpus_size $corpus_size\n",
        "%cd ../"
      ],
      "metadata": {
        "colab": {
          "base_uri": "https://localhost:8080/"
        },
        "id": "SH1AHxhDZF0H",
        "outputId": "8d2c3c22-b656-486c-d248-e26af2412f77"
      },
      "execution_count": 5,
      "outputs": [
        {
          "output_type": "stream",
          "name": "stdout",
          "text": [
            "/content/Simplex\n",
            "----------------------------------------------------------------------------------------------------\n",
            "Welcome in the approximation quality experiment for MNIST. \n",
            "Settings: random_seed = 42 ; cv = 0.\n",
            "----------------------------------------------------------------------------------------------------\n",
            "----------------------------------------------------------------------------------------------------\n",
            "Now fitting the model. \n",
            "----------------------------------------------------------------------------------------------------\n",
            "Downloading http://yann.lecun.com/exdb/mnist/train-images-idx3-ubyte.gz\n",
            "Downloading http://yann.lecun.com/exdb/mnist/train-images-idx3-ubyte.gz to ./data/MNIST/raw/train-images-idx3-ubyte.gz\n",
            "9913344it [00:00, 85959191.49it/s]                 \n",
            "Extracting ./data/MNIST/raw/train-images-idx3-ubyte.gz to ./data/MNIST/raw\n",
            "\n",
            "Downloading http://yann.lecun.com/exdb/mnist/train-labels-idx1-ubyte.gz\n",
            "Downloading http://yann.lecun.com/exdb/mnist/train-labels-idx1-ubyte.gz to ./data/MNIST/raw/train-labels-idx1-ubyte.gz\n",
            "29696it [00:00, 87039868.33it/s]\n",
            "Extracting ./data/MNIST/raw/train-labels-idx1-ubyte.gz to ./data/MNIST/raw\n",
            "\n",
            "Downloading http://yann.lecun.com/exdb/mnist/t10k-images-idx3-ubyte.gz\n",
            "Downloading http://yann.lecun.com/exdb/mnist/t10k-images-idx3-ubyte.gz to ./data/MNIST/raw/t10k-images-idx3-ubyte.gz\n",
            "1649664it [00:00, 22104986.39it/s]\n",
            "Extracting ./data/MNIST/raw/t10k-images-idx3-ubyte.gz to ./data/MNIST/raw\n",
            "\n",
            "Downloading http://yann.lecun.com/exdb/mnist/t10k-labels-idx1-ubyte.gz\n",
            "Downloading http://yann.lecun.com/exdb/mnist/t10k-labels-idx1-ubyte.gz to ./data/MNIST/raw/t10k-labels-idx1-ubyte.gz\n",
            "5120it [00:00, 32292987.19it/s]\n",
            "Extracting ./data/MNIST/raw/t10k-labels-idx1-ubyte.gz to ./data/MNIST/raw\n",
            "\n",
            "\n",
            "Test set: Avg. loss: 2.3168, Accuracy: 664/10000(7%)\n",
            "\n",
            "Train Epoch: 1 [0/60000 (0%)]\tLoss: 2.259823\n",
            "Train Epoch: 1 [6400/60000 (11%)]\tLoss: 2.266444\n",
            "Train Epoch: 1 [12800/60000 (21%)]\tLoss: 2.130428\n",
            "Train Epoch: 1 [19200/60000 (32%)]\tLoss: 1.129363\n",
            "Train Epoch: 1 [25600/60000 (43%)]\tLoss: 0.918430\n",
            "Train Epoch: 1 [32000/60000 (53%)]\tLoss: 0.712793\n",
            "Train Epoch: 1 [38400/60000 (64%)]\tLoss: 0.774907\n",
            "Train Epoch: 1 [44800/60000 (75%)]\tLoss: 0.565635\n",
            "Train Epoch: 1 [51200/60000 (85%)]\tLoss: 0.662826\n",
            "Train Epoch: 1 [57600/60000 (96%)]\tLoss: 0.928538\n",
            "\n",
            "Test set: Avg. loss: 0.3929, Accuracy: 9023/10000(90%)\n",
            "\n",
            "Train Epoch: 2 [0/60000 (0%)]\tLoss: 0.709593\n",
            "Train Epoch: 2 [6400/60000 (11%)]\tLoss: 0.446521\n",
            "Train Epoch: 2 [12800/60000 (21%)]\tLoss: 0.656988\n",
            "Train Epoch: 2 [19200/60000 (32%)]\tLoss: 0.631452\n",
            "Train Epoch: 2 [25600/60000 (43%)]\tLoss: 0.763422\n",
            "Train Epoch: 2 [32000/60000 (53%)]\tLoss: 0.687409\n",
            "Train Epoch: 2 [38400/60000 (64%)]\tLoss: 0.580497\n",
            "Train Epoch: 2 [44800/60000 (75%)]\tLoss: 0.746190\n",
            "Train Epoch: 2 [51200/60000 (85%)]\tLoss: 0.519453\n",
            "Train Epoch: 2 [57600/60000 (96%)]\tLoss: 0.557454\n",
            "\n",
            "Test set: Avg. loss: 0.3372, Accuracy: 9189/10000(92%)\n",
            "\n",
            "Train Epoch: 3 [0/60000 (0%)]\tLoss: 0.476175\n",
            "Train Epoch: 3 [6400/60000 (11%)]\tLoss: 0.679901\n",
            "Train Epoch: 3 [12800/60000 (21%)]\tLoss: 0.535079\n",
            "Train Epoch: 3 [19200/60000 (32%)]\tLoss: 0.542535\n",
            "Train Epoch: 3 [25600/60000 (43%)]\tLoss: 0.454445\n",
            "Train Epoch: 3 [32000/60000 (53%)]\tLoss: 0.581501\n",
            "Train Epoch: 3 [38400/60000 (64%)]\tLoss: 0.695667\n",
            "Train Epoch: 3 [44800/60000 (75%)]\tLoss: 0.819342\n",
            "Train Epoch: 3 [51200/60000 (85%)]\tLoss: 0.641839\n",
            "Train Epoch: 3 [57600/60000 (96%)]\tLoss: 0.526374\n",
            "\n",
            "Test set: Avg. loss: 0.3020, Accuracy: 9257/10000(93%)\n",
            "\n",
            "Train Epoch: 4 [0/60000 (0%)]\tLoss: 0.560663\n",
            "Train Epoch: 4 [6400/60000 (11%)]\tLoss: 0.517434\n",
            "Train Epoch: 4 [12800/60000 (21%)]\tLoss: 0.654958\n",
            "Train Epoch: 4 [19200/60000 (32%)]\tLoss: 0.724994\n",
            "Train Epoch: 4 [25600/60000 (43%)]\tLoss: 0.508724\n",
            "Train Epoch: 4 [32000/60000 (53%)]\tLoss: 0.479152\n",
            "Train Epoch: 4 [38400/60000 (64%)]\tLoss: 0.374204\n",
            "Train Epoch: 4 [44800/60000 (75%)]\tLoss: 0.478143\n",
            "Train Epoch: 4 [51200/60000 (85%)]\tLoss: 0.665543\n",
            "Train Epoch: 4 [57600/60000 (96%)]\tLoss: 0.620293\n",
            "\n",
            "Test set: Avg. loss: 0.3144, Accuracy: 9284/10000(93%)\n",
            "\n",
            "Train Epoch: 5 [0/60000 (0%)]\tLoss: 0.464113\n",
            "Train Epoch: 5 [6400/60000 (11%)]\tLoss: 0.488997\n",
            "Train Epoch: 5 [12800/60000 (21%)]\tLoss: 0.751942\n",
            "Train Epoch: 5 [19200/60000 (32%)]\tLoss: 0.527265\n",
            "Train Epoch: 5 [25600/60000 (43%)]\tLoss: 0.467394\n",
            "Train Epoch: 5 [32000/60000 (53%)]\tLoss: 0.641744\n",
            "Train Epoch: 5 [38400/60000 (64%)]\tLoss: 0.565141\n",
            "Train Epoch: 5 [44800/60000 (75%)]\tLoss: 0.402221\n",
            "Train Epoch: 5 [51200/60000 (85%)]\tLoss: 0.567825\n",
            "Train Epoch: 5 [57600/60000 (96%)]\tLoss: 0.522233\n",
            "\n",
            "Test set: Avg. loss: 0.3023, Accuracy: 9259/10000(93%)\n",
            "\n",
            "Train Epoch: 6 [0/60000 (0%)]\tLoss: 0.646270\n",
            "Train Epoch: 6 [6400/60000 (11%)]\tLoss: 0.695540\n",
            "Train Epoch: 6 [12800/60000 (21%)]\tLoss: 0.481686\n",
            "Train Epoch: 6 [19200/60000 (32%)]\tLoss: 0.473928\n",
            "Train Epoch: 6 [25600/60000 (43%)]\tLoss: 0.522764\n",
            "Train Epoch: 6 [32000/60000 (53%)]\tLoss: 0.568080\n",
            "Train Epoch: 6 [38400/60000 (64%)]\tLoss: 0.655778\n",
            "Train Epoch: 6 [44800/60000 (75%)]\tLoss: 0.562699\n",
            "Train Epoch: 6 [51200/60000 (85%)]\tLoss: 0.482197\n",
            "Train Epoch: 6 [57600/60000 (96%)]\tLoss: 0.744842\n",
            "\n",
            "Test set: Avg. loss: 0.2865, Accuracy: 9267/10000(93%)\n",
            "\n",
            "Train Epoch: 7 [0/60000 (0%)]\tLoss: 0.424704\n",
            "Train Epoch: 7 [6400/60000 (11%)]\tLoss: 0.500688\n",
            "Train Epoch: 7 [12800/60000 (21%)]\tLoss: 0.448019\n",
            "Train Epoch: 7 [19200/60000 (32%)]\tLoss: 0.532639\n",
            "Train Epoch: 7 [25600/60000 (43%)]\tLoss: 0.543562\n",
            "Train Epoch: 7 [32000/60000 (53%)]\tLoss: 0.285054\n",
            "Train Epoch: 7 [38400/60000 (64%)]\tLoss: 0.534205\n",
            "Train Epoch: 7 [44800/60000 (75%)]\tLoss: 0.578686\n",
            "Train Epoch: 7 [51200/60000 (85%)]\tLoss: 0.476890\n",
            "Train Epoch: 7 [57600/60000 (96%)]\tLoss: 0.415234\n",
            "\n",
            "Test set: Avg. loss: 0.2845, Accuracy: 9304/10000(93%)\n",
            "\n",
            "Train Epoch: 8 [0/60000 (0%)]\tLoss: 0.609362\n",
            "Train Epoch: 8 [6400/60000 (11%)]\tLoss: 0.609646\n",
            "Train Epoch: 8 [12800/60000 (21%)]\tLoss: 0.450340\n",
            "Train Epoch: 8 [19200/60000 (32%)]\tLoss: 0.510752\n",
            "Train Epoch: 8 [25600/60000 (43%)]\tLoss: 0.520669\n",
            "Train Epoch: 8 [32000/60000 (53%)]\tLoss: 0.412867\n",
            "Train Epoch: 8 [38400/60000 (64%)]\tLoss: 0.444878\n",
            "Train Epoch: 8 [44800/60000 (75%)]\tLoss: 0.647097\n",
            "Train Epoch: 8 [51200/60000 (85%)]\tLoss: 0.480740\n",
            "Train Epoch: 8 [57600/60000 (96%)]\tLoss: 0.593597\n",
            "\n",
            "Test set: Avg. loss: 0.2827, Accuracy: 9331/10000(93%)\n",
            "\n",
            "Train Epoch: 9 [0/60000 (0%)]\tLoss: 0.511812\n",
            "Train Epoch: 9 [6400/60000 (11%)]\tLoss: 0.483305\n",
            "Train Epoch: 9 [12800/60000 (21%)]\tLoss: 0.369752\n",
            "Train Epoch: 9 [19200/60000 (32%)]\tLoss: 0.524650\n",
            "Train Epoch: 9 [25600/60000 (43%)]\tLoss: 0.532500\n",
            "Train Epoch: 9 [32000/60000 (53%)]\tLoss: 0.325332\n",
            "Train Epoch: 9 [38400/60000 (64%)]\tLoss: 0.563157\n",
            "Train Epoch: 9 [44800/60000 (75%)]\tLoss: 0.523087\n",
            "Train Epoch: 9 [51200/60000 (85%)]\tLoss: 0.471596\n",
            "Train Epoch: 9 [57600/60000 (96%)]\tLoss: 0.455705\n",
            "\n",
            "Test set: Avg. loss: 0.2892, Accuracy: 9285/10000(93%)\n",
            "\n",
            "Train Epoch: 10 [0/60000 (0%)]\tLoss: 0.386495\n",
            "Train Epoch: 10 [6400/60000 (11%)]\tLoss: 0.409631\n",
            "Train Epoch: 10 [12800/60000 (21%)]\tLoss: 0.466161\n",
            "Train Epoch: 10 [19200/60000 (32%)]\tLoss: 0.422993\n",
            "Train Epoch: 10 [25600/60000 (43%)]\tLoss: 0.507472\n",
            "Train Epoch: 10 [32000/60000 (53%)]\tLoss: 0.638815\n",
            "Train Epoch: 10 [38400/60000 (64%)]\tLoss: 0.473423\n",
            "Train Epoch: 10 [44800/60000 (75%)]\tLoss: 0.534137\n",
            "Train Epoch: 10 [51200/60000 (85%)]\tLoss: 0.651488\n",
            "Train Epoch: 10 [57600/60000 (96%)]\tLoss: 0.730506\n",
            "\n",
            "Test set: Avg. loss: 0.2862, Accuracy: 9305/10000(93%)\n",
            "\n",
            "----------------------------------------------------------------------------------------------------\n",
            "Now fitting the explainers. \n",
            "----------------------------------------------------------------------------------------------------\n",
            "------------------------------n_keep = 3------------------------------\n",
            "Weight Fitting Epoch: 2000/10000 ; Error: 3.95e+03 ; Regulator: 97.4 ; Reg Factor: 0.398\n",
            "Weight Fitting Epoch: 4000/10000 ; Error: 1.17e+03 ; Regulator: 85.1 ; Reg Factor: 1.58\n",
            "Weight Fitting Epoch: 6000/10000 ; Error: 483 ; Regulator: 46.8 ; Reg Factor: 6.31\n",
            "Weight Fitting Epoch: 8000/10000 ; Error: 492 ; Regulator: 10.8 ; Reg Factor: 25.1\n",
            "Weight Fitting Epoch: 10000/10000 ; Error: 646 ; Regulator: 0.965 ; Reg Factor: 99.9\n",
            "Saving simplex decomposition in /content/Simplex/experiments/results/mnist/quality/simplex_cv0_n3.pkl.\n",
            "Saving nn_uniform decomposition in /content/Simplex/experiments/results/mnist/quality/nn_uniform_cv0_n3.pkl.\n",
            "Saving nn_dist decomposition in /content/Simplex/experiments/results/mnist/quality/nn_dist_cv0_n3.pkl.\n",
            "Saving corpus data in /content/Simplex/experiments/results/mnist/quality/corpus_data_cv0.pkl.\n",
            "Saving test data in /content/Simplex/experiments/results/mnist/quality/test_data_cv0.pkl.\n",
            "----------------------------------------------------------------------------------------------------\n",
            "Results. \n",
            "----------------------------------------------------------------------------------------------------\n",
            "simplex latent r2: 0.96 ; output r2 = 0.98.\n",
            "nn_uniform latent r2: 0.94 ; output r2 = 0.96.\n",
            "nn_dist latent r2: 0.94 ; output r2 = 0.97.\n",
            "------------------------------n_keep = 5------------------------------\n",
            "Weight Fitting Epoch: 2000/10000 ; Error: 3.95e+03 ; Regulator: 95.7 ; Reg Factor: 0.398\n",
            "Weight Fitting Epoch: 4000/10000 ; Error: 1.17e+03 ; Regulator: 77.8 ; Reg Factor: 1.58\n",
            "Weight Fitting Epoch: 6000/10000 ; Error: 477 ; Regulator: 34.8 ; Reg Factor: 6.31\n",
            "Weight Fitting Epoch: 8000/10000 ; Error: 414 ; Regulator: 5.88 ; Reg Factor: 25.1\n",
            "Weight Fitting Epoch: 10000/10000 ; Error: 425 ; Regulator: 0.671 ; Reg Factor: 99.9\n",
            "Saving simplex decomposition in /content/Simplex/experiments/results/mnist/quality/simplex_cv0_n5.pkl.\n",
            "Saving nn_uniform decomposition in /content/Simplex/experiments/results/mnist/quality/nn_uniform_cv0_n5.pkl.\n",
            "Saving nn_dist decomposition in /content/Simplex/experiments/results/mnist/quality/nn_dist_cv0_n5.pkl.\n",
            "Saving corpus data in /content/Simplex/experiments/results/mnist/quality/corpus_data_cv0.pkl.\n",
            "Saving test data in /content/Simplex/experiments/results/mnist/quality/test_data_cv0.pkl.\n",
            "----------------------------------------------------------------------------------------------------\n",
            "Results. \n",
            "----------------------------------------------------------------------------------------------------\n",
            "simplex latent r2: 0.97 ; output r2 = 0.99.\n",
            "nn_uniform latent r2: 0.94 ; output r2 = 0.97.\n",
            "nn_dist latent r2: 0.95 ; output r2 = 0.97.\n",
            "------------------------------n_keep = 10------------------------------\n",
            "Weight Fitting Epoch: 2000/10000 ; Error: 3.95e+03 ; Regulator: 91.7 ; Reg Factor: 0.398\n",
            "Weight Fitting Epoch: 4000/10000 ; Error: 1.16e+03 ; Regulator: 64.2 ; Reg Factor: 1.58\n",
            "Weight Fitting Epoch: 6000/10000 ; Error: 475 ; Regulator: 22.2 ; Reg Factor: 6.31\n",
            "Weight Fitting Epoch: 8000/10000 ; Error: 357 ; Regulator: 3.75 ; Reg Factor: 25.1\n",
            "Weight Fitting Epoch: 10000/10000 ; Error: 336 ; Regulator: 0.531 ; Reg Factor: 99.9\n",
            "Saving simplex decomposition in /content/Simplex/experiments/results/mnist/quality/simplex_cv0_n10.pkl.\n",
            "Saving nn_uniform decomposition in /content/Simplex/experiments/results/mnist/quality/nn_uniform_cv0_n10.pkl.\n",
            "Saving nn_dist decomposition in /content/Simplex/experiments/results/mnist/quality/nn_dist_cv0_n10.pkl.\n",
            "Saving corpus data in /content/Simplex/experiments/results/mnist/quality/corpus_data_cv0.pkl.\n",
            "Saving test data in /content/Simplex/experiments/results/mnist/quality/test_data_cv0.pkl.\n",
            "----------------------------------------------------------------------------------------------------\n",
            "Results. \n",
            "----------------------------------------------------------------------------------------------------\n",
            "simplex latent r2: 0.98 ; output r2 = 0.99.\n",
            "nn_uniform latent r2: 0.94 ; output r2 = 0.96.\n",
            "nn_dist latent r2: 0.94 ; output r2 = 0.96.\n",
            "------------------------------n_keep = 20------------------------------\n",
            "Weight Fitting Epoch: 2000/10000 ; Error: 3.95e+03 ; Regulator: 84.2 ; Reg Factor: 0.398\n",
            "Weight Fitting Epoch: 4000/10000 ; Error: 1.16e+03 ; Regulator: 46.9 ; Reg Factor: 1.58\n",
            "Weight Fitting Epoch: 6000/10000 ; Error: 479 ; Regulator: 13.9 ; Reg Factor: 6.31\n",
            "Weight Fitting Epoch: 8000/10000 ; Error: 341 ; Regulator: 2.77 ; Reg Factor: 25.1\n",
            "Weight Fitting Epoch: 10000/10000 ; Error: 309 ; Regulator: 0.442 ; Reg Factor: 99.9\n",
            "Saving simplex decomposition in /content/Simplex/experiments/results/mnist/quality/simplex_cv0_n20.pkl.\n",
            "Saving nn_uniform decomposition in /content/Simplex/experiments/results/mnist/quality/nn_uniform_cv0_n20.pkl.\n",
            "Saving nn_dist decomposition in /content/Simplex/experiments/results/mnist/quality/nn_dist_cv0_n20.pkl.\n",
            "Saving corpus data in /content/Simplex/experiments/results/mnist/quality/corpus_data_cv0.pkl.\n",
            "Saving test data in /content/Simplex/experiments/results/mnist/quality/test_data_cv0.pkl.\n",
            "----------------------------------------------------------------------------------------------------\n",
            "Results. \n",
            "----------------------------------------------------------------------------------------------------\n",
            "simplex latent r2: 0.98 ; output r2 = 0.99.\n",
            "nn_uniform latent r2: 0.92 ; output r2 = 0.95.\n",
            "nn_dist latent r2: 0.93 ; output r2 = 0.95.\n",
            "------------------------------n_keep = 50------------------------------\n",
            "Weight Fitting Epoch: 2000/10000 ; Error: 3.95e+03 ; Regulator: 64.5 ; Reg Factor: 0.398\n",
            "Weight Fitting Epoch: 4000/10000 ; Error: 1.17e+03 ; Regulator: 24.3 ; Reg Factor: 1.58\n",
            "Weight Fitting Epoch: 6000/10000 ; Error: 488 ; Regulator: 7.08 ; Reg Factor: 6.31\n",
            "Weight Fitting Epoch: 8000/10000 ; Error: 343 ; Regulator: 1.76 ; Reg Factor: 25.1\n",
            "Weight Fitting Epoch: 10000/10000 ; Error: 307 ; Regulator: 0.33 ; Reg Factor: 99.9\n",
            "Saving simplex decomposition in /content/Simplex/experiments/results/mnist/quality/simplex_cv0_n50.pkl.\n",
            "Saving nn_uniform decomposition in /content/Simplex/experiments/results/mnist/quality/nn_uniform_cv0_n50.pkl.\n",
            "Saving nn_dist decomposition in /content/Simplex/experiments/results/mnist/quality/nn_dist_cv0_n50.pkl.\n",
            "Saving corpus data in /content/Simplex/experiments/results/mnist/quality/corpus_data_cv0.pkl.\n",
            "Saving test data in /content/Simplex/experiments/results/mnist/quality/test_data_cv0.pkl.\n",
            "----------------------------------------------------------------------------------------------------\n",
            "Results. \n",
            "----------------------------------------------------------------------------------------------------\n",
            "simplex latent r2: 0.98 ; output r2 = 0.99.\n",
            "nn_uniform latent r2: 0.89 ; output r2 = 0.92.\n",
            "nn_dist latent r2: 0.9 ; output r2 = 0.93.\n",
            "Saving representer decomposition in /content/Simplex/experiments/results/mnist/quality/representer_cv0.pkl.\n",
            "representer output r2 = -4.8.\n",
            "/content\n"
          ]
        }
      ]
    },
    {
      "cell_type": "code",
      "source": [
        ""
      ],
      "metadata": {
        "id": "IzqGAbTMGjOK"
      },
      "execution_count": 5,
      "outputs": []
    },
    {
      "cell_type": "code",
      "source": [
        ""
      ],
      "metadata": {
        "id": "fQ0NpBR2HxMJ"
      },
      "execution_count": 5,
      "outputs": []
    },
    {
      "cell_type": "code",
      "source": [
        "import captum.attr\n",
        "import numpy as np\n",
        "import pandas as pd\n",
        "import torch\n",
        "import torchvision\n",
        "import torch.optim as optim\n",
        "import os\n",
        "import time\n",
        "import seaborn as sns\n",
        "import math\n",
        "import sklearn\n",
        "import argparse\n",
        "import pickle as pkl\n",
        "import torch.nn.functional as F\n",
        "import torch.nn as nn\n",
        "import matplotlib.pyplot as plt\n",
        "import matplotlib.colors as colors\n",
        "import pytorch_influence_functions as ptif\n",
        "from pathlib import Path"
      ],
      "metadata": {
        "id": "tcmQjghhHxP3"
      },
      "execution_count": 6,
      "outputs": []
    },
    {
      "cell_type": "code",
      "source": [
        "\n",
        "class MnistClassifier(nn.Module):\n",
        "    def __init__(self) -> None:\n",
        "        \"\"\"\n",
        "        CNN classifier model\n",
        "        \"\"\"\n",
        "        super(MnistClassifier, self).__init__()\n",
        "        self.conv1 = nn.Conv2d(1, 10, kernel_size=5)\n",
        "        self.conv2 = nn.Conv2d(10, 20, kernel_size=5)\n",
        "        self.conv2_drop = nn.Dropout2d()\n",
        "        self.fc1 = nn.Linear(320, 50)\n",
        "        self.fc2 = nn.Linear(50, 10)\n",
        "\n",
        "    def latent_representation(self, x: torch.Tensor) -> torch.Tensor:\n",
        "        x = F.relu(F.max_pool2d(self.conv1(x), 2))\n",
        "        x = F.relu(F.max_pool2d(self.conv2_drop(self.conv2(x)), 2))\n",
        "        x = x.view(-1, 320)\n",
        "        x = F.relu(self.fc1(x))\n",
        "        x = F.dropout(x, training=self.training)\n",
        "        return x\n",
        "\n",
        "    def forward(self, x: torch.Tensor) -> torch.Tensor:\n",
        "        x = self.latent_representation(x)\n",
        "        x = self.fc2(x)\n",
        "        return F.log_softmax(x, dim=-1)\n",
        "\n",
        "    def probabilities(self, x: torch.Tensor) -> torch.Tensor:\n",
        "        \"\"\"\n",
        "        Returns the class probabilities for the input x\n",
        "        :param x: input features\n",
        "        :return: class probabilities\n",
        "        \"\"\"\n",
        "        x = self.latent_representation(x)\n",
        "        x = self.fc2(x)\n",
        "        return F.softmax(x, dim=-1)\n",
        "\n",
        "    def presoftmax(self, x: torch.Tensor) -> torch.Tensor:\n",
        "        \"\"\"\n",
        "        Returns the preactivation outputs for the input x\n",
        "        :param x: input features\n",
        "        :return: presoftmax activations\n",
        "        \"\"\"\n",
        "        x = self.latent_representation(x)\n",
        "        return self.fc2(x)\n",
        "\n",
        "    def latent_to_presoftmax(self, h: torch.Tensor) -> torch.Tensor:\n",
        "        \"\"\"\n",
        "        Maps a latent representation to a preactivation output\n",
        "        :param h: latent representations\n",
        "        :return: presoftmax activations\n",
        "        \"\"\"\n",
        "        return self.fc2(h)"
      ],
      "metadata": {
        "id": "xMdhjxF7jNka"
      },
      "execution_count": 7,
      "outputs": []
    },
    {
      "cell_type": "code",
      "source": [
        "cv = 0\n",
        "test_size = 100\n",
        "train_only = True"
      ],
      "metadata": {
        "id": "Uf6i0AagHiKB"
      },
      "execution_count": 8,
      "outputs": []
    },
    {
      "cell_type": "code",
      "source": [
        "%cd Simplex/\n",
        "device = torch.device('cuda' if torch.cuda.is_available() else 'cpu')\n",
        "explainers_name = ['simplex', 'nn_uniform', 'nn_dist', 'representer']\n",
        "\n",
        "current_path = Path.cwd()\n",
        "save_path = 'experiments/results/mnist/quality/'\n",
        "save_path = current_path / save_path\n",
        "\n",
        "classifier = MnistClassifier()\n",
        "classifier.load_state_dict(torch.load(save_path / f'model_cv{cv}.pth'))\n",
        "classifier.to(device)\n",
        "classifier.eval()\n",
        "\n",
        "%cd ../"
      ],
      "metadata": {
        "colab": {
          "base_uri": "https://localhost:8080/"
        },
        "id": "N93Yz8E3HiQx",
        "outputId": "ab27c564-9ac1-4514-c88a-9603498d39d1"
      },
      "execution_count": 9,
      "outputs": [
        {
          "output_type": "stream",
          "name": "stdout",
          "text": [
            "/content/Simplex\n",
            "/content\n"
          ]
        }
      ]
    },
    {
      "cell_type": "code",
      "source": [
        "# alternative approach\n",
        "\n",
        "class SimplexCombo:\n",
        "    def __init__(self, corpus_examples, corpus_latent_reps: torch.Tensor) -> None:\n",
        "        \"\"\"\n",
        "        Initialize a SimplEx explainer\n",
        "        :param corpus_examples: corpus input features\n",
        "        :param corpus_latent_reps: corpus latent representations\n",
        "        \"\"\"\n",
        "        self.corpus_examples = corpus_examples\n",
        "        self.corpus_latent_reps = corpus_latent_reps\n",
        "        self.corpus_size = corpus_latent_reps.shape[0]\n",
        "        self.dim_latent = corpus_latent_reps.shape[-1]\n",
        "        self.weights = None\n",
        "        self.n_test = None\n",
        "        self.hist = None\n",
        "        self.test_examples = None\n",
        "        self.test_latent_reps = None\n",
        "        self.jacobian_projections = None\n",
        "\n",
        "    def fit(self, test_examples, test_latent_reps: torch.Tensor,\n",
        "            n_epoch: int = 10000, reg_factor: float = 1.0, n_keep: int = 5, reg_factor_scheduler=None, dist_factor=1) -> None:\n",
        "        \"\"\"\n",
        "        Fit the SimplEx explainer on test examples\n",
        "        :param test_examples: test example input features\n",
        "        :param test_latent_reps: test example latent representations\n",
        "        :param n_keep: number of neighbours used to build a latent decomposition\n",
        "        :param n_epoch: number of epochs to fit the SimplEx\n",
        "        :param reg_factor: regularization prefactor in the objective to control the number of allowed corpus members\n",
        "        :param n_keep: number of corpus members allowed in the decomposition\n",
        "        :param reg_factor_scheduler: scheduler for the variation of the regularization prefactor during optimization\n",
        "        :return:\n",
        "        \"\"\"\n",
        "        n_test = test_latent_reps.shape[0]\n",
        "        preweights = torch.zeros((n_test, self.corpus_size, self.corpus_size), device=test_latent_reps.device, requires_grad=True)\n",
        "        alpha =  torch.ones((n_test, self.corpus_size), device=test_latent_reps.device)/2\n",
        "        alpha.requires_grad = True\n",
        "        optimizer = torch.optim.Adam([preweights, alpha])\n",
        "        hist = np.zeros((0, 2))\n",
        "        for epoch in range(n_epoch):\n",
        "            optimizer.zero_grad()\n",
        "            weights = F.softmax(preweights, dim=-1) # baseline\n",
        "            corpus_latent_reps_full = torch.einsum('isj,jk->isk', weights, self.corpus_latent_reps)\n",
        "            x = torch.einsum('ti,tip->tip',  alpha, (corpus_latent_reps_full - self.corpus_latent_reps))\n",
        "            preds = self.corpus_latent_reps + x\n",
        "            error = ((preds - test_latent_reps) ** 2).sum()\n",
        "            dist_loss = ((corpus_latent_reps_full - test_latent_reps) ** 2).sum()\n",
        "            weights_sorted = torch.sort(weights)[0]\n",
        "            regulator = (weights_sorted[:, :,  : (self.corpus_size - n_keep)]).sum()\n",
        "            # loss = error + dist_factor * dist_loss + reg_factor * regulator\n",
        "            loss = error + reg_factor * regulator\n",
        "            loss.backward()\n",
        "            optimizer.step()\n",
        "            if reg_factor_scheduler:\n",
        "                reg_factor = reg_factor_scheduler.step(reg_factor)\n",
        "            hist = np.concatenate((hist,\n",
        "                                   np.array([loss.item(), regulator.item()]).reshape(1, 2)),\n",
        "                                  axis=0)\n",
        "        self.weights = torch.softmax(preweights, dim=-1).detach()\n",
        "        self.alpha = alpha.detach()\n",
        "        self.test_latent_reps = test_latent_reps\n",
        "        self.n_test = n_test\n",
        "        self.hist = hist\n",
        "        self.test_examples = test_examples\n",
        "\n",
        "\n",
        "def jacobian_projection(model, baseline, approx, baseline_latent, corpus_examples, \n",
        "                        n_bins: int = 100) \\\n",
        "        -> torch.Tensor:\n",
        "    \"\"\"\n",
        "    Compute the Jacobian Projection for the test example identified by test_id\n",
        "    :param model: trained classifier\n",
        "    :param baseline: raw baseline input - shape (n_row, n_col) \n",
        "    :param approx: hidden state of corpus approximation (n_hid)\n",
        "    :param baseline_latent: hidden state baseline (n_hid)\n",
        "    :param corpus_examples: hidden state baseline (n_corpus_examples, n_row, n_col)\n",
        "    :param n_bins: number of bins involved in the Riemann sum approximation for the integral\n",
        "    :return:\n",
        "    \"\"\"\n",
        "    corpus_inputs = corpus_examples.clone().requires_grad_()\n",
        "    input_shift = corpus_examples - baseline\n",
        "    latent_shift = approx - baseline_latent\n",
        "    latent_shift = latent_shift.unsqueeze(0).repeat(1000,1)\n",
        "    latent_shift_sqrdnorm = torch.sum(latent_shift**2, dim=-1, keepdim=True)\n",
        "    input_grad = torch.zeros(corpus_inputs.shape, device=corpus_inputs.device)\n",
        "    for n in range(1, n_bins + 1):\n",
        "        t = n / n_bins\n",
        "        input = baseline + t * (corpus_inputs - baseline)\n",
        "        latent_reps = model.latent_representation(input.unsqueeze(1))\n",
        "        latent_reps.backward(gradient=latent_shift/latent_shift_sqrdnorm)\n",
        "        input_grad += corpus_inputs.grad\n",
        "        corpus_inputs.grad.data.zero_()\n",
        "\n",
        "    jacobian_projections = input_shift * input_grad / (n_bins)\n",
        "    return jacobian_projections"
      ],
      "metadata": {
        "id": "jw4kJxA_j1aX"
      },
      "execution_count": 10,
      "outputs": []
    },
    {
      "cell_type": "code",
      "source": [
        "random_seed = 0 \n",
        "torch.random.manual_seed(random_seed + cv)\n",
        "corpus_loader = load_mnist(corpus_size, train=True)\n",
        "test_loader = load_mnist(test_size, train=train_only)\n",
        "corpus_examples = enumerate(corpus_loader)\n",
        "test_examples = enumerate(test_loader)\n",
        "batch_id_test, (test_data, test_targets) = next(test_examples)\n",
        "batch_id_corpus, (corpus_data, corpus_target) = next(corpus_examples)\n",
        "corpus_data = corpus_data.to(device).detach()\n",
        "test_data = test_data.to(device).detach()\n",
        "corpus_latent_reps = classifier.latent_representation(corpus_data).detach()\n",
        "corpus_probas = classifier.probabilities(corpus_data).detach()\n",
        "corpus_true_classes = torch.zeros(corpus_probas.shape, device=device)\n",
        "corpus_true_classes[torch.arange(corpus_size), corpus_target] = 1\n",
        "test_latent_reps_full = classifier.latent_representation(test_data).detach()\n",
        "test_probs = classifier.probabilities(test_data).detach()\n",
        "test_preds = test_probs.argmax(1)\n",
        "\n",
        "%mkdir figures"
      ],
      "metadata": {
        "colab": {
          "base_uri": "https://localhost:8080/",
          "height": 436,
          "referenced_widgets": [
            "28725e07ac844054993f85ff78fcbb61",
            "765a9b468daf49fda20d9ea365e1cf6a",
            "ec8d1512229143c2825f298794aa9a83",
            "89da5b8ee61c4518b6f8f08ceb2aa075",
            "fb2c23cac625424cb03596e66a304774",
            "fb4317b07a8240eca2aa4040cd9ef7b4",
            "b99a8124007a4fd581cb7c1da1438e6c",
            "b6affa348d4547ae9bc251b5294cd888",
            "68c2cfc5b3ba42c7bbe229d39cb4a666",
            "7e511e3787084d0c9a7c174aa367a803",
            "09aa45dff6d3405bbfb7da4a799342ec",
            "5479e3df0a8d43d599a7212c9ec32ba2",
            "d8c1884cae4b47269cbd27c8190b0a91",
            "5f97c85033d04ce4b097b49baace3818",
            "e83a6ba937144518bf1c3d264c58167a",
            "59628a9c5b3c4d519a1aa12ca25e4de2",
            "040ee5c6ae144248822a69f7ca9123f5",
            "f2c3bc3908d1409083a1e63fa77c3681",
            "87c992e593b8467aafa07bdc39c6ea43",
            "a89f0b5fef0c43d5951ce666a6cf7f33",
            "b9ba1cae15ac4c8e8e054151673dd494",
            "b002553979374f4d9ede410af002daa2",
            "7841f48a60944730b15fb7153c2e6220",
            "502e330a03e643a0a59eefa2ac504985",
            "543e87fd98a14a079fa18ff160d53ada",
            "f8f46683b3f3413ab0abdcb0dc48937a",
            "0866b33860464caaa8466982936d4afb",
            "ec070669311f47608fbbee070f67c729",
            "d831970774c944728b0cd9579354d3ca",
            "7930f7d03e054ad39a11b4a1f7571c96",
            "5abe2ec80b9c4af5b0e804e66fb61856",
            "d5472ef3d56143eab0c3184f45c0583e",
            "3af354efdd2d4174b8658838c3b487ca",
            "4214fd077cc34bb9bc2e8a7251cda8f6",
            "a9bf40c9de9b4ed8ab87aea435dbb434",
            "81930ecbb7a546dcbf90fd0bcfa0a46c",
            "23fa9403504a424f9065d593c1e76d2f",
            "884c881e63c1402e8eae396de82cc3d9",
            "36bf5dd7e3b7473980a2087ff0b6603a",
            "fe63368f18da48f1a498e09992b550e4",
            "533203fd338745de95ed97d0c0f94f84",
            "5da6dc551e424b08b899a121428d5c02",
            "1d4102b241414f84bac8c91658be5966",
            "135c4c9e8573467f84a2da5ba8ddc021"
          ]
        },
        "id": "anom2RbNHiS4",
        "outputId": "625c642c-e9d8-48d6-8a4d-519bb17de5d0"
      },
      "execution_count": 11,
      "outputs": [
        {
          "output_type": "stream",
          "name": "stdout",
          "text": [
            "Downloading http://yann.lecun.com/exdb/mnist/train-images-idx3-ubyte.gz\n",
            "Downloading http://yann.lecun.com/exdb/mnist/train-images-idx3-ubyte.gz to ./data/MNIST/raw/train-images-idx3-ubyte.gz\n"
          ]
        },
        {
          "output_type": "display_data",
          "data": {
            "application/vnd.jupyter.widget-view+json": {
              "model_id": "28725e07ac844054993f85ff78fcbb61",
              "version_minor": 0,
              "version_major": 2
            },
            "text/plain": [
              "  0%|          | 0/9912422 [00:00<?, ?it/s]"
            ]
          },
          "metadata": {}
        },
        {
          "output_type": "stream",
          "name": "stdout",
          "text": [
            "Extracting ./data/MNIST/raw/train-images-idx3-ubyte.gz to ./data/MNIST/raw\n",
            "\n",
            "Downloading http://yann.lecun.com/exdb/mnist/train-labels-idx1-ubyte.gz\n",
            "Downloading http://yann.lecun.com/exdb/mnist/train-labels-idx1-ubyte.gz to ./data/MNIST/raw/train-labels-idx1-ubyte.gz\n"
          ]
        },
        {
          "output_type": "display_data",
          "data": {
            "application/vnd.jupyter.widget-view+json": {
              "model_id": "5479e3df0a8d43d599a7212c9ec32ba2",
              "version_minor": 0,
              "version_major": 2
            },
            "text/plain": [
              "  0%|          | 0/28881 [00:00<?, ?it/s]"
            ]
          },
          "metadata": {}
        },
        {
          "output_type": "stream",
          "name": "stdout",
          "text": [
            "Extracting ./data/MNIST/raw/train-labels-idx1-ubyte.gz to ./data/MNIST/raw\n",
            "\n",
            "Downloading http://yann.lecun.com/exdb/mnist/t10k-images-idx3-ubyte.gz\n",
            "Downloading http://yann.lecun.com/exdb/mnist/t10k-images-idx3-ubyte.gz to ./data/MNIST/raw/t10k-images-idx3-ubyte.gz\n"
          ]
        },
        {
          "output_type": "display_data",
          "data": {
            "application/vnd.jupyter.widget-view+json": {
              "model_id": "7841f48a60944730b15fb7153c2e6220",
              "version_minor": 0,
              "version_major": 2
            },
            "text/plain": [
              "  0%|          | 0/1648877 [00:00<?, ?it/s]"
            ]
          },
          "metadata": {}
        },
        {
          "output_type": "stream",
          "name": "stdout",
          "text": [
            "Extracting ./data/MNIST/raw/t10k-images-idx3-ubyte.gz to ./data/MNIST/raw\n",
            "\n",
            "Downloading http://yann.lecun.com/exdb/mnist/t10k-labels-idx1-ubyte.gz\n",
            "Downloading http://yann.lecun.com/exdb/mnist/t10k-labels-idx1-ubyte.gz to ./data/MNIST/raw/t10k-labels-idx1-ubyte.gz\n"
          ]
        },
        {
          "output_type": "display_data",
          "data": {
            "application/vnd.jupyter.widget-view+json": {
              "model_id": "4214fd077cc34bb9bc2e8a7251cda8f6",
              "version_minor": 0,
              "version_major": 2
            },
            "text/plain": [
              "  0%|          | 0/4542 [00:00<?, ?it/s]"
            ]
          },
          "metadata": {}
        },
        {
          "output_type": "stream",
          "name": "stdout",
          "text": [
            "Extracting ./data/MNIST/raw/t10k-labels-idx1-ubyte.gz to ./data/MNIST/raw\n",
            "\n"
          ]
        }
      ]
    },
    {
      "cell_type": "code",
      "source": [
        ""
      ],
      "metadata": {
        "id": "Q4ZtdfUfjUGk"
      },
      "execution_count": null,
      "outputs": []
    },
    {
      "cell_type": "markdown",
      "source": [
        "# Example from report"
      ],
      "metadata": {
        "id": "Pz_1VOPEjU5-"
      }
    },
    {
      "cell_type": "code",
      "source": [
        "# select a single test example\n",
        "i = 6 \n",
        "# 6 = misclassified\n",
        "# 4 = correct (can change baseline to 9)\n",
        "test_latent_reps = test_latent_reps_full[i:i+1]\n",
        "pred_label = test_preds[i].item()\n",
        "true_label = test_targets[i].item()\n",
        "\n",
        "# fit regular Simplex\n",
        "reg_factor_init = 0.1\n",
        "reg_factor_final = 100\n",
        "n_epoch = 10000\n",
        "n_keep = 3\n",
        "reg_factor_scheduler = ExponentialScheduler(reg_factor_init, reg_factor_final, n_epoch)\n",
        "simplex = Simplex(corpus_examples=corpus_data,\n",
        "                  corpus_latent_reps=corpus_latent_reps)\n",
        "simplex.fit(test_examples=test_data,\n",
        "            test_latent_reps=test_latent_reps,\n",
        "            n_epoch=n_epoch, reg_factor=reg_factor_init, n_keep=n_keep,\n",
        "            reg_factor_scheduler=reg_factor_scheduler)\n",
        "\n",
        "# look at results\n",
        "approx_error = ((simplex.latent_approx() - test_latent_reps)**2).sum()**0.5\n",
        "print('\\nSimplex approx error:', approx_error.item())\n",
        "\n",
        "big_weights = simplex.weights > 0.05\n",
        "big_weight_values = simplex.weights[big_weights].cpu().numpy()\n",
        "print('Bigest weights: ', big_weight_values)\n",
        "print('Proportion explained:',simplex.weights[big_weights].sum().item())"
      ],
      "metadata": {
        "colab": {
          "base_uri": "https://localhost:8080/"
        },
        "id": "yyohQnrlfY8j",
        "outputId": "3c28c3f8-8017-4197-8168-7a769198e2ad"
      },
      "execution_count": 19,
      "outputs": [
        {
          "output_type": "stream",
          "name": "stdout",
          "text": [
            "Weight Fitting Epoch: 2000/10000 ; Error: 18.3 ; Regulator: 0.975 ; Reg Factor: 0.398\n",
            "Weight Fitting Epoch: 4000/10000 ; Error: 6.62 ; Regulator: 0.864 ; Reg Factor: 1.58\n",
            "Weight Fitting Epoch: 6000/10000 ; Error: 3.14 ; Regulator: 0.416 ; Reg Factor: 6.31\n",
            "Weight Fitting Epoch: 8000/10000 ; Error: 4.41 ; Regulator: 0.0695 ; Reg Factor: 25.1\n",
            "Weight Fitting Epoch: 10000/10000 ; Error: 5.32 ; Regulator: 0.00482 ; Reg Factor: 99.9\n",
            "\n",
            "Simplex approx error: 2.3055179119110107\n",
            "Bigest weights:  [0.5472448  0.32295418 0.12499106]\n",
            "Proportion explained: 0.9951900243759155\n"
          ]
        }
      ]
    },
    {
      "cell_type": "code",
      "source": [
        "# grab jacobians \n",
        "baseline = -0.4242 * torch.ones(test_data[0,0].shape, device=device)\n",
        "approx = simplex.latent_approx()[0]\n",
        "baseline_latent = classifier.latent_representation(baseline[(None,)*2])[0]\n",
        "jp = jacobian_projection(classifier, baseline, approx, \n",
        "                         baseline_latent, simplex.corpus_examples[:,0], n_bins=200)\n",
        "\n",
        "\n",
        "# plot the explanation\n",
        "print('True label:', true_label)\n",
        "print('Pred label:',pred_label)\n",
        "\n",
        "plt.title('Baseline')\n",
        "plt.imshow(baseline.cpu().numpy())\n",
        "plt.axis('off')\n",
        "plt.show()\n",
        "\n",
        "plt.title('Test example')\n",
        "plt.imshow(test_data[i,0].cpu().numpy())\n",
        "plt.axis('off')\n",
        "plt.show()\n",
        "\n",
        "used_examples = corpus_data[big_weights[0]]\n",
        "used_projs = jp[big_weights[0]]\n",
        "divnorm=colors.TwoSlopeNorm(vmin=used_projs.min().item(), vcenter=0., vmax=used_projs.max().item())\n",
        "for j in range(used_examples.shape[0]):\n",
        "    img = used_examples[j,0].cpu().numpy()\n",
        "    proj = used_projs[j].cpu().numpy()\n",
        "\n",
        "    fig, (ax1, ax2, ax3) = plt.subplots(1,3, figsize=(10,6))\n",
        "    fig.suptitle(f'Weight = {simplex.weights[big_weights][j].item()}')\n",
        "    ax1.imshow(img)\n",
        "\n",
        "    ax2.imshow(baseline.cpu().numpy(), cmap='gray', interpolation='none', alpha=0.8)\n",
        "    ax2.imshow(proj, cmap='PiYG', norm=divnorm, interpolation='none', alpha=0.7)\n",
        "    \n",
        "    ax3.imshow(img, cmap='gray', interpolation='none', alpha=0.8)\n",
        "    ax3.imshow(proj, cmap='PiYG', norm=divnorm, interpolation='none', alpha=0.7)\n",
        "    ax1.axis('off')\n",
        "    ax2.axis('off')\n",
        "    ax3.axis('off')\n",
        "    fig.subplots_adjust(top=1.3)\n",
        "    plt.show()"
      ],
      "metadata": {
        "colab": {
          "base_uri": "https://localhost:8080/",
          "height": 971
        },
        "id": "AuUo1pnH6S4Y",
        "outputId": "76d10534-1ace-47d6-e880-e24d13564e03"
      },
      "execution_count": 13,
      "outputs": [
        {
          "output_type": "stream",
          "name": "stdout",
          "text": [
            "True label: 4\n",
            "Pred label: 4\n"
          ]
        },
        {
          "output_type": "display_data",
          "data": {
            "image/png": "[encoded data removed]",
            "text/plain": [
              "<Figure size 432x288 with 1 Axes>"
            ]
          },
          "metadata": {
            "needs_background": "light"
          }
        },
        {
          "output_type": "display_data",
          "data": {
            "image/png": "[encoded data removed]",
            "text/plain": [
              "<Figure size 432x288 with 1 Axes>"
            ]
          },
          "metadata": {
            "needs_background": "light"
          }
        },
        {
          "output_type": "display_data",
          "data": {
            "image/png": "[encoded data removed]",
            "text/plain": [
              "<Figure size 720x432 with 3 Axes>"
            ]
          },
          "metadata": {
            "needs_background": "light"
          }
        },
        {
          "output_type": "display_data",
          "data": {
            "image/png": "[encoded data removed]",
            "text/plain": [
              "<Figure size 720x432 with 3 Axes>"
            ]
          },
          "metadata": {
            "needs_background": "light"
          }
        }
      ]
    },
    {
      "cell_type": "code",
      "source": [
        "!mkdir figures"
      ],
      "metadata": {
        "id": "h0uD2QdU0uiw"
      },
      "execution_count": null,
      "outputs": []
    },
    {
      "cell_type": "code",
      "source": [
        "# tidy plots for report\n",
        "\n",
        "plt.imshow(test_data[i,0].cpu().numpy(), cmap='gray', interpolation='none')\n",
        "plt.axis('off')\n",
        "plt.savefig('figures/1_s_test.pdf', format='pdf', dpi=1200, bbox_inches = 'tight',\n",
        "    pad_inches = 0)\n",
        "plt.show()\n",
        "\n",
        "used_examples = corpus_data[big_weights[0]]\n",
        "used_projs = jp[big_weights[0]]\n",
        "divnorm=colors.TwoSlopeNorm(vmin=used_projs.min().item(), vcenter=0., vmax=used_projs.max().item())\n",
        "for j in range(used_examples.shape[0]):\n",
        "    img = used_examples[j,0].cpu().numpy()\n",
        "    proj = used_projs[j].cpu().numpy()\n",
        "\n",
        "    plt.imshow(img, cmap='gray', interpolation='none')\n",
        "    plt.axis('off')\n",
        "    weight = round(simplex.weights[big_weights][j].item(), 3)\n",
        "    plt.savefig(f'figures/1_s_img_{weight}.pdf', format='pdf', dpi=1200, bbox_inches = 'tight',\n",
        "    pad_inches = 0)\n",
        "    plt.show()\n",
        "\n",
        "    plt.imshow(img, cmap='gray', interpolation='none', alpha=0.8)\n",
        "    plt.imshow(proj, cmap='PiYG', norm=divnorm, interpolation='none', alpha=0.7)\n",
        "    plt.axis('off')\n",
        "    plt.savefig(f'figures/1_s_exp_{weight}.pdf', format='pdf', dpi=1200, bbox_inches = 'tight',\n",
        "    pad_inches = 0)\n",
        "    plt.show()"
      ],
      "metadata": {
        "colab": {
          "base_uri": "https://localhost:8080/",
          "height": 1000
        },
        "id": "iospeVKS6CjE",
        "outputId": "6dee0a20-a37f-4a40-c0d0-dffa48fff5eb"
      },
      "execution_count": null,
      "outputs": [
        {
          "output_type": "display_data",
          "data": {
            "image/png": "[encoded data removed]",
            "text/plain": [
              "<Figure size 432x288 with 1 Axes>"
            ]
          },
          "metadata": {
            "needs_background": "light"
          }
        },
        {
          "output_type": "display_data",
          "data": {
            "image/png": "[encoded data removed]",
            "text/plain": [
              "<Figure size 432x288 with 1 Axes>"
            ]
          },
          "metadata": {
            "needs_background": "light"
          }
        },
        {
          "output_type": "display_data",
          "data": {
            "image/png": "[encoded data removed]",
            "text/plain": [
              "<Figure size 432x288 with 1 Axes>"
            ]
          },
          "metadata": {
            "needs_background": "light"
          }
        },
        {
          "output_type": "display_data",
          "data": {
            "image/png": "[encoded data removed]",
            "text/plain": [
              "<Figure size 432x288 with 1 Axes>"
            ]
          },
          "metadata": {
            "needs_background": "light"
          }
        },
        {
          "output_type": "display_data",
          "data": {
            "image/png": "[encoded data removed]",
            "text/plain": [
              "<Figure size 432x288 with 1 Axes>"
            ]
          },
          "metadata": {
            "needs_background": "light"
          }
        }
      ]
    },
    {
      "cell_type": "code",
      "source": [
        ""
      ],
      "metadata": {
        "id": "A7zH2zFCRkxN"
      },
      "execution_count": null,
      "outputs": []
    },
    {
      "cell_type": "code",
      "source": [
        "# fit alternative \n",
        "reg_factor_init = 0.1\n",
        "reg_factor_final = 100\n",
        "n_epoch = 20000\n",
        "n_keep = 3\n",
        "reg_factor_scheduler = ExponentialScheduler(reg_factor_init, reg_factor_final, n_epoch)\n",
        "simplexcombo = SimplexCombo(corpus_examples=corpus_data,\n",
        "                  corpus_latent_reps=corpus_latent_reps)\n",
        "simplexcombo.fit(test_examples=test_data,\n",
        "            test_latent_reps=test_latent_reps,\n",
        "            n_epoch=n_epoch, reg_factor=reg_factor_init, n_keep=n_keep,\n",
        "            reg_factor_scheduler=reg_factor_scheduler)\n",
        "\n",
        "# calculate predictions\n",
        "b = simplexcombo.corpus_latent_reps\n",
        "corpus_latent_reps_full = torch.einsum('isj,jk->isk', simplexcombo.weights, b)\n",
        "x = torch.einsum('ti,tip->tip',  simplexcombo.alpha, (corpus_latent_reps_full - b))\n",
        "preds = b + x\n",
        "preds = preds.cpu().numpy()"
      ],
      "metadata": {
        "id": "cmEqXDuURk01"
      },
      "execution_count": 20,
      "outputs": []
    },
    {
      "cell_type": "code",
      "source": [
        "# look at results for a given baseline\n",
        "test_latent_reps_np = test_latent_reps.cpu().numpy()\n",
        "\n",
        "################ Auto select baseline ##########################\n",
        "# idx_min = ((preds[0] - test_latent_reps_np)**2).sum(1).argmin()\n",
        "################################################################\n",
        "\n",
        "\n",
        "################ Choose Baseline Class ##########################\n",
        "desired_baseline_label = 2\n",
        "idx_range = torch.arange(corpus_true_classes.shape[0])\n",
        "baseline_label_choice = (corpus_true_classes.argmax(1) == desired_baseline_label).cpu().numpy()\n",
        "idx_red = ((preds[0] - test_latent_reps_np)**2).sum(1)[baseline_label_choice].argmin()\n",
        "idx_min = idx_range[baseline_label_choice][idx_red]\n",
        "#################################################################\n",
        "\n",
        "pred_error = (((preds[0] - test_latent_reps_np)**2).sum(1)**0.5)[idx_min]\n",
        "print('Prediction error:', pred_error)\n",
        "print('Alpha:', simplexcombo.alpha[0,idx_min].item())\n",
        "\n",
        "big_weights = simplexcombo.weights[0,idx_min,:] > 0.05\n",
        "big_weight_values = simplexcombo.weights[0,idx_min,big_weights].cpu().numpy()\n",
        "print('Bigest weights: ', big_weight_values)\n",
        "print('Proportion of total weight:', simplexcombo.weights[0,idx_min,big_weights].sum().item())"
      ],
      "metadata": {
        "colab": {
          "base_uri": "https://localhost:8080/"
        },
        "id": "-A7hINoyECKd",
        "outputId": "6cd36d8f-72ff-462c-f455-3d521a4ae48e"
      },
      "execution_count": 21,
      "outputs": [
        {
          "output_type": "stream",
          "name": "stdout",
          "text": [
            "Prediction error: 1.3530883\n",
            "Alpha: 1.2374029159545898\n",
            "Bigest weights:  [0.18044242 0.3599292  0.45960674]\n",
            "Proportion of total weight: 0.9999783635139465\n"
          ]
        }
      ]
    },
    {
      "cell_type": "code",
      "source": [
        "# get jacobian predictions\n",
        "baseline = simplexcombo.corpus_examples[idx_min,0]\n",
        "baseline_latent = simplexcombo.corpus_latent_reps[idx_min]\n",
        "approx = torch.einsum('sj,jk->sk', simplexcombo.weights[0], simplexcombo.corpus_latent_reps)[idx_min]\n",
        "jp = jacobian_projection(classifier, baseline, approx, \n",
        "                         baseline_latent, simplexcombo.corpus_examples[:,0], n_bins=200)\n",
        "\n",
        "# plot results\n",
        "print('True label:', true_label)\n",
        "print('Pred label:',pred_label)\n",
        "\n",
        "baseline_label = corpus_true_classes.argmax(1)[idx_min].cpu().numpy()\n",
        "plt.title(f'Baseline (label = {baseline_label})')\n",
        "baseline = corpus_data[idx_min,0].cpu().numpy()\n",
        "plt.imshow(baseline)\n",
        "plt.show()\n",
        "\n",
        "plt.title('Test example')\n",
        "test = test_data[i,0].cpu().numpy()\n",
        "plt.imshow(test)\n",
        "plt.show()\n",
        "\n",
        "used_examples = corpus_data[big_weights]\n",
        "used_labels = corpus_true_classes.argmax(1)[big_weights]\n",
        "used_projs = jp[big_weights]\n",
        "divnorm=colors.TwoSlopeNorm(vmin=used_projs.min().item(), vcenter=0., vmax=used_projs.max().item())\n",
        "for j in range(used_examples.shape[0]):\n",
        "    img = used_examples[j,0].cpu().numpy()\n",
        "    proj = used_projs[j].cpu().numpy()\n",
        "\n",
        "    fig, (ax1, ax2, ax3, ax4) = plt.subplots(1,4, figsize=(12,6))\n",
        "    fig.suptitle(f'Weight = {simplexcombo.weights[0,idx_min,big_weights][j].item()}')\n",
        "    ax1.imshow(img)\n",
        "    true_label = used_labels[j].cpu().numpy()\n",
        "    ax1.set_title(f'Label = {true_label}')\n",
        "    ax2.imshow(corpus_data[idx_min,0].cpu().numpy(), cmap='gray', interpolation='none', alpha=0.8)\n",
        "    ax2.imshow(proj, cmap='PiYG', norm=divnorm, interpolation='none', alpha=0.7)\n",
        "    \n",
        "    ax3.imshow(img, cmap='gray', interpolation='none', alpha=0.8)\n",
        "    ax3.imshow(proj, cmap='PiYG', norm=divnorm, interpolation='none', alpha=0.7)\n",
        "\n",
        "    ax4.imshow(test, cmap='gray', interpolation='none', alpha=0.8)\n",
        "    ax4.imshow(proj, cmap='PiYG', norm=divnorm, interpolation='none', alpha=0.7)\n",
        "\n",
        "    ax1.axis('off')\n",
        "    ax2.axis('off')\n",
        "    ax3.axis('off')\n",
        "    ax4.axis('off')\n",
        "    fig.subplots_adjust(top=1.3)\n",
        "    plt.show()\n"
      ],
      "metadata": {
        "colab": {
          "base_uri": "https://localhost:8080/",
          "height": 1000
        },
        "id": "7gUGK2EGDUqD",
        "outputId": "40f9eaf9-0bbf-402e-be42-9d70554b54ee"
      },
      "execution_count": 22,
      "outputs": [
        {
          "output_type": "stream",
          "name": "stdout",
          "text": [
            "True label: 2\n",
            "Pred label: 3\n"
          ]
        },
        {
          "output_type": "display_data",
          "data": {
            "image/png": "[encoded data removed]",
            "text/plain": [
              "<Figure size 432x288 with 1 Axes>"
            ]
          },
          "metadata": {
            "needs_background": "light"
          }
        },
        {
          "output_type": "display_data",
          "data": {
            "image/png": "[encoded data removed]",
            "text/plain": [
              "<Figure size 432x288 with 1 Axes>"
            ]
          },
          "metadata": {
            "needs_background": "light"
          }
        },
        {
          "output_type": "display_data",
          "data": {
            "image/png": "[encoded data removed]",
            "text/plain": [
              "<Figure size 864x432 with 4 Axes>"
            ]
          },
          "metadata": {
            "needs_background": "light"
          }
        },
        {
          "output_type": "display_data",
          "data": {
            "image/png": "[encoded data removed]",
            "text/plain": [
              "<Figure size 864x432 with 4 Axes>"
            ]
          },
          "metadata": {
            "needs_background": "light"
          }
        },
        {
          "output_type": "display_data",
          "data": {
            "image/png": "[encoded data removed]",
            "text/plain": [
              "<Figure size 864x432 with 4 Axes>"
            ]
          },
          "metadata": {
            "needs_background": "light"
          }
        }
      ]
    },
    {
      "cell_type": "code",
      "source": [
        "baseline_label = corpus_true_classes.argmax(1)[idx_min].cpu().numpy()\n",
        "\n",
        "baseline = corpus_data[idx_min,0].cpu().numpy()\n",
        "plt.imshow(baseline, cmap='gray', interpolation='none')\n",
        "plt.axis('off')\n",
        "plt.savefig('figures/1_sc_baseline.pdf', format='pdf', dpi=1200, bbox_inches = 'tight',\n",
        "    pad_inches = 0)\n",
        "\n",
        "plt.show()\n",
        "\n",
        "test = test_data[i,0].cpu().numpy()\n",
        "\n",
        "\n",
        "used_examples = corpus_data[big_weights]\n",
        "used_labels = corpus_true_classes.argmax(1)[big_weights]\n",
        "used_projs = jp[big_weights]\n",
        "divnorm=colors.TwoSlopeNorm(vmin=used_projs.min().item(), vcenter=0., vmax=used_projs.max().item())\n",
        "for j in range(used_examples.shape[0]):\n",
        "    img = used_examples[j,0].cpu().numpy()\n",
        "    proj = used_projs[j].cpu().numpy()\n",
        "    weight = round(simplexcombo.weights[0,idx_min,big_weights][j].item(), 3)\n",
        "\n",
        "    plt.imshow(corpus_data[idx_min,0].cpu().numpy(), cmap='gray', interpolation='none', alpha=0.8)\n",
        "    plt.imshow(proj, cmap='PiYG', norm=divnorm, interpolation='none', alpha=0.7)\n",
        "    plt.axis('off')\n",
        "    plt.savefig(f'figures/1_sc_base_{weight}.pdf', format='pdf', dpi=1200, bbox_inches = 'tight',\n",
        "    pad_inches = 0)\n",
        "    plt.show()\n",
        "\n",
        "    plt.imshow(img, cmap='gray', interpolation='none')\n",
        "    plt.axis('off')\n",
        "    plt.savefig(f'figures/1_sc_img_{weight}.pdf', format='pdf', dpi=1200, bbox_inches = 'tight',\n",
        "    pad_inches = 0)\n",
        "    plt.show()\n",
        "\n",
        "    plt.imshow(img, cmap='gray', interpolation='none', alpha=0.8)\n",
        "    plt.imshow(proj, cmap='PiYG', norm=divnorm, interpolation='none', alpha=0.7)\n",
        "    plt.axis('off')\n",
        "    plt.savefig(f'figures/1_sc_imgproj_{weight}.pdf', format='pdf', dpi=1200, bbox_inches = 'tight',\n",
        "    pad_inches = 0)\n",
        "    plt.show()\n",
        "\n",
        "    plt.imshow(test, cmap='gray', interpolation='none', alpha=0.8)\n",
        "    plt.imshow(proj, cmap='PiYG', norm=divnorm, interpolation='none', alpha=0.7)\n",
        "    plt.axis('off')\n",
        "    plt.savefig(f'figures/1_sc_testproj_{weight}.pdf', format='pdf', dpi=1200, bbox_inches = 'tight',\n",
        "    pad_inches = 0)\n",
        "    plt.show()\n"
      ],
      "metadata": {
        "colab": {
          "base_uri": "https://localhost:8080/",
          "height": 1000
        },
        "id": "pffqgI3wRk6D",
        "outputId": "0ae85b3a-8d82-4a9e-977a-e0b0368c6d62"
      },
      "execution_count": null,
      "outputs": [
        {
          "output_type": "display_data",
          "data": {
            "image/png": "[encoded data removed]",
            "text/plain": [
              "<Figure size 432x288 with 1 Axes>"
            ]
          },
          "metadata": {
            "needs_background": "light"
          }
        },
        {
          "output_type": "display_data",
          "data": {
            "image/png": "[encoded data removed]",
            "text/plain": [
              "<Figure size 432x288 with 1 Axes>"
            ]
          },
          "metadata": {
            "needs_background": "light"
          }
        },
        {
          "output_type": "display_data",
          "data": {
            "image/png": "[encoded data removed]",
            "text/plain": [
              "<Figure size 432x288 with 1 Axes>"
            ]
          },
          "metadata": {
            "needs_background": "light"
          }
        },
        {
          "output_type": "display_data",
          "data": {
            "image/png": "[encoded data removed]",
            "text/plain": [
              "<Figure size 432x288 with 1 Axes>"
            ]
          },
          "metadata": {
            "needs_background": "light"
          }
        },
        {
          "output_type": "display_data",
          "data": {
            "image/png": "[encoded data removed]",
            "text/plain": [
              "<Figure size 432x288 with 1 Axes>"
            ]
          },
          "metadata": {
            "needs_background": "light"
          }
        },
        {
          "output_type": "display_data",
          "data": {
            "image/png": "[encoded data removed]",
            "text/plain": [
              "<Figure size 432x288 with 1 Axes>"
            ]
          },
          "metadata": {
            "needs_background": "light"
          }
        },
        {
          "output_type": "display_data",
          "data": {
            "image/png": "[encoded data removed]",
            "text/plain": [
              "<Figure size 432x288 with 1 Axes>"
            ]
          },
          "metadata": {
            "needs_background": "light"
          }
        },
        {
          "output_type": "display_data",
          "data": {
            "image/png": "[encoded data removed]",
            "text/plain": [
              "<Figure size 432x288 with 1 Axes>"
            ]
          },
          "metadata": {
            "needs_background": "light"
          }
        },
        {
          "output_type": "display_data",
          "data": {
            "image/png": "[encoded data removed]",
            "text/plain": [
              "<Figure size 432x288 with 1 Axes>"
            ]
          },
          "metadata": {
            "needs_background": "light"
          }
        },
        {
          "output_type": "display_data",
          "data": {
            "image/png": "[encoded data removed]",
            "text/plain": [
              "<Figure size 432x288 with 1 Axes>"
            ]
          },
          "metadata": {
            "needs_background": "light"
          }
        },
        {
          "output_type": "display_data",
          "data": {
            "image/png": "[encoded data removed]",
            "text/plain": [
              "<Figure size 432x288 with 1 Axes>"
            ]
          },
          "metadata": {
            "needs_background": "light"
          }
        },
        {
          "output_type": "display_data",
          "data": {
            "image/png": "[encoded data removed]",
            "text/plain": [
              "<Figure size 432x288 with 1 Axes>"
            ]
          },
          "metadata": {
            "needs_background": "light"
          }
        },
        {
          "output_type": "display_data",
          "data": {
            "image/png": "[encoded data removed]",
            "text/plain": [
              "<Figure size 432x288 with 1 Axes>"
            ]
          },
          "metadata": {
            "needs_background": "light"
          }
        }
      ]
    },
    {
      "cell_type": "code",
      "source": [
        "!zip -r /content/figures.zip /content/figures\n",
        "from google.colab import files\n",
        "files.download(\"/content/figures.zip\")"
      ],
      "metadata": {
        "colab": {
          "base_uri": "https://localhost:8080/",
          "height": 126
        },
        "id": "s9VEsDpDGHYD",
        "outputId": "be488929-8fa5-466e-aca9-b0987e8acdb6"
      },
      "execution_count": null,
      "outputs": [
        {
          "output_type": "stream",
          "name": "stdout",
          "text": [
            "  adding: content/figures/ (stored 0%)\n",
            "  adding: content/figures/1_s_test.pdf (deflated 35%)\n",
            "  adding: content/figures/1_s_img_0.387.pdf (deflated 33%)\n",
            "  adding: content/figures/1_s_exp_0.579.pdf (deflated 30%)\n",
            "  adding: content/figures/1_s_img_0.579.pdf (deflated 34%)\n",
            "  adding: content/figures/1_s_exp_0.387.pdf (deflated 29%)\n"
          ]
        },
        {
          "output_type": "display_data",
          "data": {
            "application/javascript": [
              "\n",
              "    async function download(id, filename, size) {\n",
              "      if (!google.colab.kernel.accessAllowed) {\n",
              "        return;\n",
              "      }\n",
              "      const div = document.createElement('div');\n",
              "      const label = document.createElement('label');\n",
              "      label.textContent = `Downloading \"${filename}\": `;\n",
              "      div.appendChild(label);\n",
              "      const progress = document.createElement('progress');\n",
              "      progress.max = size;\n",
              "      div.appendChild(progress);\n",
              "      document.body.appendChild(div);\n",
              "\n",
              "      const buffers = [];\n",
              "      let downloaded = 0;\n",
              "\n",
              "      const channel = await google.colab.kernel.comms.open(id);\n",
              "      // Send a message to notify the kernel that we're ready.\n",
              "      channel.send({})\n",
              "\n",
              "      for await (const message of channel.messages) {\n",
              "        // Send a message to notify the kernel that we're ready.\n",
              "        channel.send({})\n",
              "        if (message.buffers) {\n",
              "          for (const buffer of message.buffers) {\n",
              "            buffers.push(buffer);\n",
              "            downloaded += buffer.byteLength;\n",
              "            progress.value = downloaded;\n",
              "          }\n",
              "        }\n",
              "      }\n",
              "      const blob = new Blob(buffers, {type: 'application/binary'});\n",
              "      const a = document.createElement('a');\n",
              "      a.href = window.URL.createObjectURL(blob);\n",
              "      a.download = filename;\n",
              "      div.appendChild(a);\n",
              "      a.click();\n",
              "      div.remove();\n",
              "    }\n",
              "  "
            ],
            "text/plain": [
              "<IPython.core.display.Javascript object>"
            ]
          },
          "metadata": {}
        },
        {
          "output_type": "display_data",
          "data": {
            "application/javascript": [
              "download(\"download_a6525e9f-fb2b-49dd-be84-b9a4c8035fc2\", \"figures.zip\", 9805)"
            ],
            "text/plain": [
              "<IPython.core.display.Javascript object>"
            ]
          },
          "metadata": {}
        }
      ]
    },
    {
      "cell_type": "code",
      "source": [
        ""
      ],
      "metadata": {
        "id": "7XGS2_LvGHet"
      },
      "execution_count": null,
      "outputs": []
    },
    {
      "cell_type": "code",
      "source": [
        ""
      ],
      "metadata": {
        "id": "yJALBYTtGHiA"
      },
      "execution_count": null,
      "outputs": []
    },
    {
      "cell_type": "code",
      "source": [
        ""
      ],
      "metadata": {
        "id": "lb7hxiQyGHk-"
      },
      "execution_count": null,
      "outputs": []
    },
    {
      "cell_type": "code",
      "source": [
        ""
      ],
      "metadata": {
        "id": "EMIrPY6qGHn-"
      },
      "execution_count": null,
      "outputs": []
    },
    {
      "cell_type": "code",
      "source": [
        "# decompose into differences and similarities\n",
        "epsilon = 2\n",
        "\n",
        "for j in range(used_examples.shape[0]):\n",
        "    img = used_examples[j,0].cpu().numpy()\n",
        "    proj = used_projs[j].cpu().numpy()\n",
        "    diff = np.abs(baseline - test) > epsilon\n",
        "    same = np.abs(baseline - test) <= epsilon\n",
        "\n",
        "\n",
        "    print('Important differences')\n",
        "    fig, (ax1, ax2, ax3, ax4) = plt.subplots(1,4, figsize=(12,6))\n",
        "    fig.suptitle(f'Weight = {simplexcombo.weights[0,idx_min,big_weights][j].item()}')\n",
        "    ax1.imshow(img)\n",
        "    ax2.imshow(baseline, cmap='gray', interpolation='none', alpha=0.8)\n",
        "    ax2.imshow(diff * proj, cmap='PiYG', norm=divnorm, interpolation='none', alpha=0.7)\n",
        "\n",
        "    ax3.imshow(img, cmap='gray', interpolation='none', alpha=0.8)\n",
        "    ax3.imshow(diff * proj, cmap='PiYG', norm=divnorm, interpolation='none', alpha=0.7)\n",
        "\n",
        "    ax4.imshow(test, cmap='gray', interpolation='none', alpha=0.8)\n",
        "    ax4.imshow(diff * proj, cmap='PiYG', norm=divnorm, interpolation='none', alpha=0.7)\n",
        "\n",
        "    ax1.axis('off')\n",
        "    ax2.axis('off')\n",
        "    ax3.axis('off')\n",
        "    ax4.axis('off')\n",
        "    fig.subplots_adjust(top=1.3)\n",
        "    plt.show()\n",
        "\n",
        "    print('Important similarities')\n",
        "    fig, (ax1, ax2, ax3, ax4) = plt.subplots(1,4, figsize=(12,6))\n",
        "    fig.suptitle(f'Weight = {simplexcombo.weights[0,idx_min,big_weights][j].item()}')\n",
        "    ax1.imshow(img)\n",
        "    ax2.imshow(baseline, cmap='gray', interpolation='none', alpha=0.8)\n",
        "    ax2.imshow(same * proj, cmap='PiYG', norm=divnorm, interpolation='none', alpha=0.7)\n",
        "\n",
        "    ax3.imshow(img, cmap='gray', interpolation='none', alpha=0.8)\n",
        "    ax3.imshow(same * proj, cmap='PiYG', norm=divnorm, interpolation='none', alpha=0.7)\n",
        "\n",
        "    ax4.imshow(test, cmap='gray', interpolation='none', alpha=0.8)\n",
        "    ax4.imshow(same * proj, cmap='PiYG', norm=divnorm, interpolation='none', alpha=0.7)\n",
        "\n",
        "    ax1.axis('off')\n",
        "    ax2.axis('off')\n",
        "    ax3.axis('off')\n",
        "    ax4.axis('off')\n",
        "    fig.subplots_adjust(top=1.3)\n",
        "    plt.show()"
      ],
      "metadata": {
        "colab": {
          "base_uri": "https://localhost:8080/",
          "height": 1000
        },
        "id": "DBkddO91y9d1",
        "outputId": "7a965100-4884-4e72-a536-1e832103d32d"
      },
      "execution_count": null,
      "outputs": [
        {
          "output_type": "stream",
          "name": "stdout",
          "text": [
            "Important differences\n"
          ]
        },
        {
          "output_type": "display_data",
          "data": {
            "image/png": "[encoded data removed]",
            "text/plain": [
              "<Figure size 864x432 with 4 Axes>"
            ]
          },
          "metadata": {
            "needs_background": "light"
          }
        },
        {
          "output_type": "stream",
          "name": "stdout",
          "text": [
            "Important similarities\n"
          ]
        },
        {
          "output_type": "display_data",
          "data": {
            "image/png": "[encoded data removed]",
            "text/plain": [
              "<Figure size 864x432 with 4 Axes>"
            ]
          },
          "metadata": {
            "needs_background": "light"
          }
        },
        {
          "output_type": "stream",
          "name": "stdout",
          "text": [
            "Important differences\n"
          ]
        },
        {
          "output_type": "display_data",
          "data": {
            "image/png": "[encoded data removed]",
            "text/plain": [
              "<Figure size 864x432 with 4 Axes>"
            ]
          },
          "metadata": {
            "needs_background": "light"
          }
        },
        {
          "output_type": "stream",
          "name": "stdout",
          "text": [
            "Important similarities\n"
          ]
        },
        {
          "output_type": "display_data",
          "data": {
            "image/png": "[encoded data removed]",
            "text/plain": [
              "<Figure size 864x432 with 4 Axes>"
            ]
          },
          "metadata": {
            "needs_background": "light"
          }
        },
        {
          "output_type": "stream",
          "name": "stdout",
          "text": [
            "Important differences\n"
          ]
        },
        {
          "output_type": "display_data",
          "data": {
            "image/png": "[encoded data removed]",
            "text/plain": [
              "<Figure size 864x432 with 4 Axes>"
            ]
          },
          "metadata": {
            "needs_background": "light"
          }
        },
        {
          "output_type": "stream",
          "name": "stdout",
          "text": [
            "Important similarities\n"
          ]
        },
        {
          "output_type": "display_data",
          "data": {
            "image/png": "[encoded data removed]",
            "text/plain": [
              "<Figure size 864x432 with 4 Axes>"
            ]
          },
          "metadata": {
            "needs_background": "light"
          }
        }
      ]
    },
    {
      "cell_type": "code",
      "source": [
        ""
      ],
      "metadata": {
        "id": "i7A7CLuPy9gA"
      },
      "execution_count": null,
      "outputs": []
    },
    {
      "cell_type": "code",
      "source": [
        ""
      ],
      "metadata": {
        "id": "G1Iz5MTny9iY"
      },
      "execution_count": null,
      "outputs": []
    },
    {
      "cell_type": "code",
      "source": [
        ""
      ],
      "metadata": {
        "id": "pfQ9whcWy9lD"
      },
      "execution_count": null,
      "outputs": []
    },
    {
      "cell_type": "code",
      "source": [
        ""
      ],
      "metadata": {
        "id": "jiDMLT0Iy9p9"
      },
      "execution_count": null,
      "outputs": []
    },
    {
      "cell_type": "code",
      "source": [
        ""
      ],
      "metadata": {
        "id": "wLT7VUb8y9sL"
      },
      "execution_count": null,
      "outputs": []
    },
    {
      "cell_type": "code",
      "source": [
        ""
      ],
      "metadata": {
        "id": "-4ubBCWjy9u2"
      },
      "execution_count": null,
      "outputs": []
    },
    {
      "cell_type": "code",
      "source": [
        ""
      ],
      "metadata": {
        "id": "5KAwQWa4y9xM"
      },
      "execution_count": null,
      "outputs": []
    },
    {
      "cell_type": "code",
      "source": [
        ""
      ],
      "metadata": {
        "id": "GVGAohXzRk9c"
      },
      "execution_count": null,
      "outputs": []
    },
    {
      "cell_type": "code",
      "source": [
        ""
      ],
      "metadata": {
        "id": "6kuGVH40OFrz"
      },
      "execution_count": null,
      "outputs": []
    }
  ]
}